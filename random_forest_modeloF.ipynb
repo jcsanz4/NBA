{
 "cells": [
  {
   "cell_type": "code",
   "execution_count": 4,
   "id": "31f671ea",
   "metadata": {},
   "outputs": [],
   "source": [
    "import requests\n",
    "from time import sleep, strftime\n",
    "import random\n",
    "from random import randint\n",
    "from bs4 import BeautifulSoup\n",
    "from selenium import webdriver\n",
    "import shutil\n",
    "import pickle\n",
    "from selenium import webdriver\n",
    "from selenium.webdriver.common.by import By\n",
    "from selenium.webdriver.common.action_chains import ActionChains\n",
    "from selenium.webdriver.support import expected_conditions\n",
    "from selenium.webdriver.support.wait import WebDriverWait\n",
    "from selenium.webdriver.common.keys import Keys\n",
    "from selenium.webdriver.common.desired_capabilities import DesiredCapabilities\n",
    "import pandas as pd\n",
    "import datetime\n",
    "import funciones_nba24\n",
    "from nba_api.stats.static import teams\n",
    "from nba_api.stats.endpoints import leaguegamefinder\n",
    "import numpy as np\n",
    "import seaborn as sns\n",
    "import matplotlib.pyplot as plt\n",
    "import itertools\n",
    "from nba_api.stats import endpoints\n",
    "from sklearn.preprocessing import MinMaxScaler\n",
    "from sklearn.cluster import KMeans\n",
    "from sklearn import datasets\n",
    "from sklearn.cluster import DBSCAN \n",
    "from sklearn.datasets import make_circles\n",
    "import matplotlib.pyplot as plt\n",
    "from sklearn.metrics import accuracy_score\n",
    "from sklearn.model_selection import train_test_split\n",
    "from sklearn.ensemble import RandomForestClassifier\n",
    "\n",
    "from sklearn.model_selection import GridSearchCV\n",
    "from sklearn.metrics import accuracy_score\n",
    "from sklearn.metrics import f1_score, make_scorer,recall_score\n",
    "from sklearn import tree\n",
    "from sklearn.preprocessing import LabelEncoder"
   ]
  },
  {
   "cell_type": "code",
   "execution_count": 2,
   "id": "4d806154",
   "metadata": {},
   "outputs": [
    {
     "data": {
      "text/plain": [
       "array([22000490, 22000451, 22000438, ..., 22000984, 22000957, 22000568],\n",
       "      dtype=int64)"
      ]
     },
     "execution_count": 2,
     "metadata": {},
     "output_type": "execute_result"
    }
   ],
   "source": [
    "df2 = pd.read_csv(\"estadisticas_tradicionales.csv\")\n",
    "df2[\"GAME_ID\"].unique()"
   ]
  },
  {
   "cell_type": "code",
   "execution_count": 3,
   "id": "ee243aae",
   "metadata": {},
   "outputs": [
    {
     "data": {
      "text/plain": [
       "Index(['Unnamed: 0', 'GAME_ID', 'TEAM_ID', 'TEAM_ABBREVIATION', 'TEAM_CITY',\n",
       "       'PLAYER_ID', 'PLAYER_NAME', 'NICKNAME', 'MIN', 'FGM', 'FGA', 'FG_PCT',\n",
       "       'FG3M', 'FG3A', 'FG3_PCT', 'FTM', 'FTA', 'FT_PCT', 'OREB', 'DREB',\n",
       "       'REB', 'AST', 'STL', 'BLK', 'TO', 'PF', 'PTS', 'PLUS_MINUS',\n",
       "       'local_visitante', 'gan_per'],\n",
       "      dtype='object')"
      ]
     },
     "execution_count": 3,
     "metadata": {},
     "output_type": "execute_result"
    }
   ],
   "source": [
    "df2.columns"
   ]
  },
  {
   "cell_type": "code",
   "execution_count": 4,
   "id": "69db9dc8",
   "metadata": {},
   "outputs": [],
   "source": [
    "#El game_id está ordenado de fecha más reciente a más antigua"
   ]
  },
  {
   "cell_type": "code",
   "execution_count": 5,
   "id": "437cfa73",
   "metadata": {},
   "outputs": [],
   "source": [
    "#Los enfrentamientos entre equipos sacando el más reciente, y desde 3 en adelante\n"
   ]
  },
  {
   "cell_type": "code",
   "execution_count": 6,
   "id": "3fb893fc",
   "metadata": {},
   "outputs": [
    {
     "data": {
      "text/plain": [
       "435"
      ]
     },
     "execution_count": 6,
     "metadata": {},
     "output_type": "execute_result"
    }
   ],
   "source": [
    "a=[\"ATL\", \"BOS\", \"CLE\", \"NOP\", \"CHI\", \"DAL\", \"DEN\", \"GSW\", \"HOU\", \"LAC\", \"LAL\", \"MIA\", \"MIL\", \"MIN\", \"BKN\", \"NYK\", \"ORL\", \"IND\",\n",
    "\"PHI\", \"PHX\", \"POR\", \"SAC\", \"SAS\", \"OKC\", \"TOR\", \"UTA\", \"MEM\", \"WAS\", \"DET\", \"CHA\"]\n",
    "combinaciones_games=[]\n",
    "for i in itertools.combinations(a,2):\n",
    "    combinaciones_games.append(i)\n",
    "len(combinaciones_games)"
   ]
  },
  {
   "cell_type": "markdown",
   "id": "39d07817",
   "metadata": {},
   "source": [
    "## Crear data frame con las medidas de agrupación con distintos números de enfrentamientos entre combinaciones"
   ]
  },
  {
   "cell_type": "code",
   "execution_count": 88,
   "id": "24d7f049",
   "metadata": {},
   "outputs": [],
   "source": [
    "df_medidas_trad = pd.DataFrame()\n",
    "for k in range(len(combinaciones_games)):     \n",
    "    c1 = (combinaciones_games[k][0])\n",
    "    c2 = (combinaciones_games[k][1])   \n",
    "\n",
    "   \n",
    "    df_enfrentamientos_equipo = pd.DataFrame()\n",
    "    \n",
    "    #Guardar todos los enfrentamientos de un par de equipos\n",
    "    for j in df2[\"GAME_ID\"].unique():\n",
    "        df_partido = df2[df2[\"GAME_ID\"]==int(j)]\n",
    "        if (df_partido[\"TEAM_ABBREVIATION\"].unique()[0]==c1 or df_partido[\"TEAM_ABBREVIATION\"].unique()[0]==c2 ) and (df_partido[\"TEAM_ABBREVIATION\"].unique()[1]==c2 or df_partido[\"TEAM_ABBREVIATION\"].unique()[1]==c1):\n",
    "            df_enfrentamientos_equipo = pd.concat([df_enfrentamientos_equipo, df_partido])\n",
    "    \n",
    "    #Más de tres partidos porque necesitamos el 4to para el test\n",
    "    if len(df_enfrentamientos_equipo[\"GAME_ID\"].unique())>3:\n",
    "\n",
    "        for i in range(3, ( len(df_enfrentamientos_equipo[\"GAME_ID\"].unique()) ) ):\n",
    "            #HAcer data frame con los game_id i últimos\n",
    "            df_enfrentamientos = df_enfrentamientos_equipo[df_enfrentamientos_equipo[\"GAME_ID\"].isin(df_enfrentamientos_equipo[\"GAME_ID\"].unique()[-i:])]\n",
    "\n",
    "            media = df_enfrentamientos.groupby([\"TEAM_ABBREVIATION\",\"PLAYER_NAME\"]).mean()    \n",
    "            std = df_enfrentamientos.groupby([\"TEAM_ABBREVIATION\",\"PLAYER_NAME\"]).std()\n",
    "            maxim = df_enfrentamientos.groupby([\"TEAM_ABBREVIATION\",\"PLAYER_NAME\"]).max()\n",
    "            minim = df_enfrentamientos.groupby([\"TEAM_ABBREVIATION\",\"PLAYER_NAME\"]).min()\n",
    "            suma = df_enfrentamientos.groupby([\"TEAM_ABBREVIATION\",\"PLAYER_NAME\"]).sum()\n",
    "            med = df_enfrentamientos.groupby([\"TEAM_ABBREVIATION\",\"PLAYER_NAME\"]).median()\n",
    "            q1 = df_enfrentamientos.groupby([\"TEAM_ABBREVIATION\",\"PLAYER_NAME\"]).quantile(0.25)\n",
    "            q2 = df_enfrentamientos.groupby([\"TEAM_ABBREVIATION\",\"PLAYER_NAME\"]).quantile(0.75)\n",
    "            \n",
    "            #Concatenación horizontal\n",
    "            concatenacion = pd.concat([media, std, maxim, minim, suma, med, q1, q2], axis=1)\n",
    "            concatenacion[\"numero_enfrentamientos\"]=i\n",
    "            concatenacion[\"matchup\"]=c1+\"vs\"+c2\n",
    "            # Concatenación vertical\n",
    "            df_medidas_trad = pd.concat([df_medidas_trad, concatenacion])\n",
    "\n",
    "    else:\n",
    "        media = df_enfrentamientos_equipo.groupby([\"TEAM_ABBREVIATION\",\"PLAYER_NAME\"]).mean()    \n",
    "        std = df_enfrentamientos_equipo.groupby([\"TEAM_ABBREVIATION\",\"PLAYER_NAME\"]).std()\n",
    "        maxim = df_enfrentamientos_equipo.groupby([\"TEAM_ABBREVIATION\",\"PLAYER_NAME\"]).max()\n",
    "        minim = df_enfrentamientos_equipo.groupby([\"TEAM_ABBREVIATION\",\"PLAYER_NAME\"]).min()\n",
    "        suma = df_enfrentamientos_equipo.groupby([\"TEAM_ABBREVIATION\",\"PLAYER_NAME\"]).sum()\n",
    "        med = df_enfrentamientos_equipo.groupby([\"TEAM_ABBREVIATION\",\"PLAYER_NAME\"]).median()\n",
    "        q1 = df_enfrentamientos_equipo.groupby([\"TEAM_ABBREVIATION\",\"PLAYER_NAME\"]).quantile(0.25)\n",
    "        q2 = df_enfrentamientos_equipo.groupby([\"TEAM_ABBREVIATION\",\"PLAYER_NAME\"]).quantile(0.75)\n",
    "\n",
    "        concatenacion = pd.concat([media, std, maxim, minim, suma, med, q1, q2], axis=1)\n",
    "        concatenacion[\"numero_enfrentamientos\"]= len(df_enfrentamientos_equipo[\"GAME_ID\"].unique())\n",
    "        concatenacion[\"matchup\"]=c1+\"vs\"+c2\n",
    "\n",
    "        df_medidas_trad = pd.concat([df_medidas_trad, concatenacion])"
   ]
  },
  {
   "cell_type": "markdown",
   "id": "325cc0d1",
   "metadata": {},
   "source": [
    "## Guardar en csv el df anterior"
   ]
  },
  {
   "cell_type": "code",
   "execution_count": 98,
   "id": "062d0fa8",
   "metadata": {},
   "outputs": [],
   "source": [
    "df_medidas_trad.drop(\"Unnamed: 0\", axis=1, inplace=True)"
   ]
  },
  {
   "cell_type": "code",
   "execution_count": 100,
   "id": "6267c7a1",
   "metadata": {},
   "outputs": [],
   "source": [
    "df_medidas_trad.to_csv('estadisticas_tradicionales_agrupadas2.csv', header=True, index=True)"
   ]
  },
  {
   "cell_type": "code",
   "execution_count": 7,
   "id": "88fe6117",
   "metadata": {},
   "outputs": [],
   "source": [
    "df = pd.read_csv(\"estadisticas_tradicionales_agrupadas2.csv\")"
   ]
  },
  {
   "cell_type": "markdown",
   "id": "4f91c40e",
   "metadata": {},
   "source": [
    "### ELiminar columnas"
   ]
  },
  {
   "cell_type": "code",
   "execution_count": 8,
   "id": "4fa8fbf0",
   "metadata": {},
   "outputs": [],
   "source": [
    "columnas_eliminar=[]\n",
    "for j in [\"gan_per\", \"NICK\", \"local_visitante\", \"GAME_ID\", \"TEAM_CITY\",\"FGM\", \"FG3M\", \"FTM\", \"OREB\", \"BLK\"  ]:\n",
    "    for i in df.columns:\n",
    "        if i.startswith(j):\n",
    "            columnas_eliminar.append(i)\n",
    "    "
   ]
  },
  {
   "cell_type": "code",
   "execution_count": 9,
   "id": "f4fc6e67",
   "metadata": {},
   "outputs": [],
   "source": [
    "df.drop(columnas_eliminar, axis=1, inplace=True)"
   ]
  },
  {
   "cell_type": "markdown",
   "id": "0227dcc1",
   "metadata": {},
   "source": [
    "### Cambiar el nombre de las columnas para identificar las medidas de agrupación"
   ]
  },
  {
   "cell_type": "code",
   "execution_count": 10,
   "id": "cd61ec99",
   "metadata": {},
   "outputs": [],
   "source": [
    "term=[\"_mean\", \"_std\", \"_max\", \"_min\", \"_sum\", \"_median\", \"_q25\", \"_q75\"]\n",
    "columnas_nuevas=[]\n",
    "for j in term:\n",
    "    b=2\n",
    "    c=19\n",
    "    for i in df.columns[b:c]:\n",
    "        columnas_nuevas.append(i+j)\n",
    "    b+=17\n",
    "    c+=17"
   ]
  },
  {
   "cell_type": "code",
   "execution_count": 11,
   "id": "58fab28d",
   "metadata": {},
   "outputs": [],
   "source": [
    "for i in range(len(df.columns[2:-2].values)):\n",
    "    df.columns[2:-2].values[i]=columnas_nuevas[i]"
   ]
  },
  {
   "cell_type": "markdown",
   "id": "fb3fdb79",
   "metadata": {},
   "source": [
    "### Pasar a cero las std que tienen nan"
   ]
  },
  {
   "cell_type": "code",
   "execution_count": 12,
   "id": "69c34d6f",
   "metadata": {},
   "outputs": [],
   "source": [
    "df=df.fillna(0)"
   ]
  },
  {
   "cell_type": "markdown",
   "id": "e9aad30d",
   "metadata": {},
   "source": [
    "## Asignar a cada jugador la eqtiqueta ganar perder "
   ]
  },
  {
   "cell_type": "code",
   "execution_count": 16,
   "id": "6de99cad",
   "metadata": {},
   "outputs": [],
   "source": [
    "df.to_csv('estadisticas_tradicionales_agrupadas2_limpias.csv', header=True, index=True)"
   ]
  },
  {
   "cell_type": "code",
   "execution_count": 127,
   "id": "b501eaca",
   "metadata": {},
   "outputs": [],
   "source": [
    "#Encontrar todos los partidos entre una combinación\n",
    "lista_total=[]\n",
    "lista=[]\n",
    "for k in range(len(combinaciones_games)):     \n",
    "    c1 = (combinaciones_games[k][0])\n",
    "    c2 = (combinaciones_games[k][1])   \n",
    "\n",
    "\n",
    "    df_enfrentamientos_equipo = pd.DataFrame()\n",
    "    #Encontrar todos los partidos entre una combinación\n",
    "    for j in df2[\"GAME_ID\"].unique():\n",
    "        df_partido = df2[df2[\"GAME_ID\"]==int(j)]\n",
    "        if (df_partido[\"TEAM_ABBREVIATION\"].unique()[0]==c1 or df_partido[\"TEAM_ABBREVIATION\"].unique()[0]==c2 ) and (df_partido[\"TEAM_ABBREVIATION\"].unique()[1]==c2 or df_partido[\"TEAM_ABBREVIATION\"].unique()[1]==c1):\n",
    "            df_enfrentamientos_equipo = pd.concat([df_enfrentamientos_equipo, df_partido])\n",
    "\n",
    "\n",
    "    #Encuentra los game_id del partido próximo, que se quiere predecir, desde el 4to partido en adelante,\n",
    "    #la etiqueta de ganar perder del próximo partido se le quiere poner a los enfrentamientos anteriores\n",
    "\n",
    "\n",
    "    if -3 + len(df_enfrentamientos_equipo[\"GAME_ID\"].unique()) >1:\n",
    "\n",
    "        for i in range(3, len(df_enfrentamientos_equipo[\"GAME_ID\"].unique()) ):\n",
    "            ids = df_enfrentamientos_equipo[\"GAME_ID\"].unique()[-i-1]\n",
    "\n",
    "            df_game_proximo = df_enfrentamientos_equipo[df_enfrentamientos_equipo[\"GAME_ID\"] == ids]  #4t0  \n",
    "\n",
    "            #Todos los resúmenes de enfrentamientos anteriores de una combinación \n",
    "            df_matchup = df[df[\"matchup\"]==c1+\"vs\"+c2]\n",
    "\n",
    "            #El matchup filtrado por número de enfrentamientos\n",
    "            df_matchup[df_matchup[\"numero_enfrentamientos\"]==i]#i==3\n",
    "\n",
    "            def g_p(x):\n",
    "                #Obtenemos el nombre el equipo ganador, devolver \"G\"\n",
    "                if x== df_game_proximo[df_game_proximo[\"gan_per\"]==\"G\"][\"TEAM_ABBREVIATION\"].values[0]:\n",
    "                    return \"G\"\n",
    "                else:\n",
    "                    return \"P\"\n",
    "            lista = df_matchup[df_matchup[\"numero_enfrentamientos\"]==i][\"TEAM_ABBREVIATION\"].apply(g_p)  \n",
    "\n",
    "            lista_total.extend(lista)\n",
    "\n",
    "    else:\n",
    "        df_matchup = df[df[\"matchup\"]==c1+\"vs\"+c2]\n",
    "        len(df_matchup)\n",
    "        for i in range(len(df_matchup)):\n",
    "            lista_total.append(\"none\")\n",
    "\n"
   ]
  },
  {
   "cell_type": "code",
   "execution_count": 130,
   "id": "7c8c790b",
   "metadata": {},
   "outputs": [],
   "source": [
    "len(lista_total)\n",
    "len(df)\n",
    "df[\"target\"]=lista_total"
   ]
  },
  {
   "cell_type": "markdown",
   "id": "7f9752a5",
   "metadata": {},
   "source": [
    "# Guardar el df limpio agrupado y con target"
   ]
  },
  {
   "cell_type": "code",
   "execution_count": 1,
   "id": "5c84c3da",
   "metadata": {},
   "outputs": [],
   "source": [
    "df.to_csv('estadisticas_tradicionales_agrupadas2_limpias_target.csv', header=True, index=True)"
   ]
  },
  {
   "cell_type": "code",
   "execution_count": 82,
   "id": "245a00e4",
   "metadata": {},
   "outputs": [],
   "source": [
    "df = pd.read_csv('estadisticas_tradicionales_agrupadas2_limpias_target.csv')"
   ]
  },
  {
   "cell_type": "code",
   "execution_count": 83,
   "id": "917ffc71",
   "metadata": {},
   "outputs": [
    {
     "data": {
      "text/html": [
       "<div>\n",
       "<style scoped>\n",
       "    .dataframe tbody tr th:only-of-type {\n",
       "        vertical-align: middle;\n",
       "    }\n",
       "\n",
       "    .dataframe tbody tr th {\n",
       "        vertical-align: top;\n",
       "    }\n",
       "\n",
       "    .dataframe thead th {\n",
       "        text-align: right;\n",
       "    }\n",
       "</style>\n",
       "<table border=\"1\" class=\"dataframe\">\n",
       "  <thead>\n",
       "    <tr style=\"text-align: right;\">\n",
       "      <th></th>\n",
       "      <th>Unnamed: 0</th>\n",
       "      <th>TEAM_ABBREVIATION</th>\n",
       "      <th>PLAYER_NAME</th>\n",
       "      <th>TEAM_ID_mean</th>\n",
       "      <th>PLAYER_ID_mean</th>\n",
       "      <th>MIN_mean</th>\n",
       "      <th>FGA_mean</th>\n",
       "      <th>FG_PCT_mean</th>\n",
       "      <th>FG3A_mean</th>\n",
       "      <th>FG3_PCT_mean</th>\n",
       "      <th>...</th>\n",
       "      <th>REB_q75</th>\n",
       "      <th>AST_q75</th>\n",
       "      <th>STL_q75</th>\n",
       "      <th>TO_q75</th>\n",
       "      <th>PF_q75</th>\n",
       "      <th>PTS_q75</th>\n",
       "      <th>PLUS_MINUS_q75</th>\n",
       "      <th>numero_enfrentamientos</th>\n",
       "      <th>matchup</th>\n",
       "      <th>target</th>\n",
       "    </tr>\n",
       "  </thead>\n",
       "  <tbody>\n",
       "    <tr>\n",
       "      <th>0</th>\n",
       "      <td>0</td>\n",
       "      <td>ATL</td>\n",
       "      <td>Brandon Goodwin</td>\n",
       "      <td>1.610613e+09</td>\n",
       "      <td>1629164.0</td>\n",
       "      <td>4.625000</td>\n",
       "      <td>2.000000</td>\n",
       "      <td>0.333500</td>\n",
       "      <td>0.500000</td>\n",
       "      <td>0.500000</td>\n",
       "      <td>...</td>\n",
       "      <td>0.00</td>\n",
       "      <td>0.00</td>\n",
       "      <td>0.00</td>\n",
       "      <td>0.75</td>\n",
       "      <td>0.00</td>\n",
       "      <td>3.75</td>\n",
       "      <td>6.5</td>\n",
       "      <td>3</td>\n",
       "      <td>ATLvsBOS</td>\n",
       "      <td>none</td>\n",
       "    </tr>\n",
       "    <tr>\n",
       "      <th>1</th>\n",
       "      <td>1</td>\n",
       "      <td>ATL</td>\n",
       "      <td>Bruno Fernando</td>\n",
       "      <td>1.610613e+09</td>\n",
       "      <td>1628981.0</td>\n",
       "      <td>5.977778</td>\n",
       "      <td>0.666667</td>\n",
       "      <td>0.333333</td>\n",
       "      <td>0.000000</td>\n",
       "      <td>0.000000</td>\n",
       "      <td>...</td>\n",
       "      <td>2.50</td>\n",
       "      <td>0.00</td>\n",
       "      <td>0.00</td>\n",
       "      <td>0.50</td>\n",
       "      <td>1.00</td>\n",
       "      <td>1.00</td>\n",
       "      <td>-0.5</td>\n",
       "      <td>3</td>\n",
       "      <td>ATLvsBOS</td>\n",
       "      <td>none</td>\n",
       "    </tr>\n",
       "    <tr>\n",
       "      <th>2</th>\n",
       "      <td>2</td>\n",
       "      <td>ATL</td>\n",
       "      <td>Cam Reddish</td>\n",
       "      <td>1.610613e+09</td>\n",
       "      <td>1629629.0</td>\n",
       "      <td>32.450000</td>\n",
       "      <td>10.500000</td>\n",
       "      <td>0.428000</td>\n",
       "      <td>3.000000</td>\n",
       "      <td>0.250000</td>\n",
       "      <td>...</td>\n",
       "      <td>5.75</td>\n",
       "      <td>2.25</td>\n",
       "      <td>4.25</td>\n",
       "      <td>0.75</td>\n",
       "      <td>2.75</td>\n",
       "      <td>12.00</td>\n",
       "      <td>4.5</td>\n",
       "      <td>3</td>\n",
       "      <td>ATLvsBOS</td>\n",
       "      <td>none</td>\n",
       "    </tr>\n",
       "    <tr>\n",
       "      <th>3</th>\n",
       "      <td>3</td>\n",
       "      <td>ATL</td>\n",
       "      <td>Clint Capela</td>\n",
       "      <td>1.610613e+09</td>\n",
       "      <td>203991.0</td>\n",
       "      <td>28.394444</td>\n",
       "      <td>11.000000</td>\n",
       "      <td>0.685000</td>\n",
       "      <td>0.000000</td>\n",
       "      <td>0.000000</td>\n",
       "      <td>...</td>\n",
       "      <td>14.50</td>\n",
       "      <td>1.00</td>\n",
       "      <td>1.00</td>\n",
       "      <td>1.50</td>\n",
       "      <td>2.50</td>\n",
       "      <td>24.00</td>\n",
       "      <td>11.0</td>\n",
       "      <td>3</td>\n",
       "      <td>ATLvsBOS</td>\n",
       "      <td>none</td>\n",
       "    </tr>\n",
       "    <tr>\n",
       "      <th>4</th>\n",
       "      <td>4</td>\n",
       "      <td>ATL</td>\n",
       "      <td>Danilo Gallinari</td>\n",
       "      <td>1.610613e+09</td>\n",
       "      <td>201568.0</td>\n",
       "      <td>27.522222</td>\n",
       "      <td>14.333333</td>\n",
       "      <td>0.395667</td>\n",
       "      <td>8.333333</td>\n",
       "      <td>0.484000</td>\n",
       "      <td>...</td>\n",
       "      <td>4.00</td>\n",
       "      <td>2.50</td>\n",
       "      <td>1.50</td>\n",
       "      <td>3.00</td>\n",
       "      <td>2.50</td>\n",
       "      <td>23.50</td>\n",
       "      <td>17.0</td>\n",
       "      <td>3</td>\n",
       "      <td>ATLvsBOS</td>\n",
       "      <td>none</td>\n",
       "    </tr>\n",
       "    <tr>\n",
       "      <th>...</th>\n",
       "      <td>...</td>\n",
       "      <td>...</td>\n",
       "      <td>...</td>\n",
       "      <td>...</td>\n",
       "      <td>...</td>\n",
       "      <td>...</td>\n",
       "      <td>...</td>\n",
       "      <td>...</td>\n",
       "      <td>...</td>\n",
       "      <td>...</td>\n",
       "      <td>...</td>\n",
       "      <td>...</td>\n",
       "      <td>...</td>\n",
       "      <td>...</td>\n",
       "      <td>...</td>\n",
       "      <td>...</td>\n",
       "      <td>...</td>\n",
       "      <td>...</td>\n",
       "      <td>...</td>\n",
       "      <td>...</td>\n",
       "      <td>...</td>\n",
       "    </tr>\n",
       "    <tr>\n",
       "      <th>14553</th>\n",
       "      <td>14553</td>\n",
       "      <td>DET</td>\n",
       "      <td>Saddiq Bey</td>\n",
       "      <td>1.610613e+09</td>\n",
       "      <td>1630180.0</td>\n",
       "      <td>35.566667</td>\n",
       "      <td>14.666667</td>\n",
       "      <td>0.288000</td>\n",
       "      <td>10.333333</td>\n",
       "      <td>0.353667</td>\n",
       "      <td>...</td>\n",
       "      <td>8.00</td>\n",
       "      <td>4.00</td>\n",
       "      <td>1.00</td>\n",
       "      <td>0.00</td>\n",
       "      <td>1.50</td>\n",
       "      <td>18.00</td>\n",
       "      <td>1.0</td>\n",
       "      <td>3</td>\n",
       "      <td>DETvsCHA</td>\n",
       "      <td>none</td>\n",
       "    </tr>\n",
       "    <tr>\n",
       "      <th>14554</th>\n",
       "      <td>14554</td>\n",
       "      <td>DET</td>\n",
       "      <td>Sekou Doumbouya</td>\n",
       "      <td>1.610613e+09</td>\n",
       "      <td>1629635.0</td>\n",
       "      <td>22.127778</td>\n",
       "      <td>8.333333</td>\n",
       "      <td>0.333333</td>\n",
       "      <td>2.333333</td>\n",
       "      <td>0.133333</td>\n",
       "      <td>...</td>\n",
       "      <td>6.50</td>\n",
       "      <td>1.50</td>\n",
       "      <td>0.50</td>\n",
       "      <td>1.00</td>\n",
       "      <td>2.00</td>\n",
       "      <td>14.50</td>\n",
       "      <td>-7.0</td>\n",
       "      <td>3</td>\n",
       "      <td>DETvsCHA</td>\n",
       "      <td>none</td>\n",
       "    </tr>\n",
       "    <tr>\n",
       "      <th>14555</th>\n",
       "      <td>14555</td>\n",
       "      <td>DET</td>\n",
       "      <td>Svi Mykhailiuk</td>\n",
       "      <td>1.610613e+09</td>\n",
       "      <td>1629004.0</td>\n",
       "      <td>26.200000</td>\n",
       "      <td>11.000000</td>\n",
       "      <td>0.364000</td>\n",
       "      <td>10.000000</td>\n",
       "      <td>0.300000</td>\n",
       "      <td>...</td>\n",
       "      <td>4.00</td>\n",
       "      <td>8.00</td>\n",
       "      <td>2.00</td>\n",
       "      <td>1.00</td>\n",
       "      <td>2.00</td>\n",
       "      <td>11.00</td>\n",
       "      <td>3.0</td>\n",
       "      <td>3</td>\n",
       "      <td>DETvsCHA</td>\n",
       "      <td>none</td>\n",
       "    </tr>\n",
       "    <tr>\n",
       "      <th>14556</th>\n",
       "      <td>14556</td>\n",
       "      <td>DET</td>\n",
       "      <td>Tyler Cook</td>\n",
       "      <td>1.610613e+09</td>\n",
       "      <td>1629076.0</td>\n",
       "      <td>12.150000</td>\n",
       "      <td>4.500000</td>\n",
       "      <td>0.333500</td>\n",
       "      <td>0.000000</td>\n",
       "      <td>0.000000</td>\n",
       "      <td>...</td>\n",
       "      <td>5.25</td>\n",
       "      <td>1.50</td>\n",
       "      <td>0.00</td>\n",
       "      <td>0.00</td>\n",
       "      <td>0.75</td>\n",
       "      <td>9.00</td>\n",
       "      <td>-2.5</td>\n",
       "      <td>3</td>\n",
       "      <td>DETvsCHA</td>\n",
       "      <td>none</td>\n",
       "    </tr>\n",
       "    <tr>\n",
       "      <th>14557</th>\n",
       "      <td>14557</td>\n",
       "      <td>DET</td>\n",
       "      <td>Wayne Ellington</td>\n",
       "      <td>1.610613e+09</td>\n",
       "      <td>201961.0</td>\n",
       "      <td>20.850000</td>\n",
       "      <td>7.000000</td>\n",
       "      <td>0.286000</td>\n",
       "      <td>6.000000</td>\n",
       "      <td>0.167000</td>\n",
       "      <td>...</td>\n",
       "      <td>5.00</td>\n",
       "      <td>1.00</td>\n",
       "      <td>0.00</td>\n",
       "      <td>1.00</td>\n",
       "      <td>2.00</td>\n",
       "      <td>5.00</td>\n",
       "      <td>-3.0</td>\n",
       "      <td>3</td>\n",
       "      <td>DETvsCHA</td>\n",
       "      <td>none</td>\n",
       "    </tr>\n",
       "  </tbody>\n",
       "</table>\n",
       "<p>14558 rows × 142 columns</p>\n",
       "</div>"
      ],
      "text/plain": [
       "       Unnamed: 0 TEAM_ABBREVIATION       PLAYER_NAME  TEAM_ID_mean  \\\n",
       "0               0               ATL   Brandon Goodwin  1.610613e+09   \n",
       "1               1               ATL    Bruno Fernando  1.610613e+09   \n",
       "2               2               ATL       Cam Reddish  1.610613e+09   \n",
       "3               3               ATL      Clint Capela  1.610613e+09   \n",
       "4               4               ATL  Danilo Gallinari  1.610613e+09   \n",
       "...           ...               ...               ...           ...   \n",
       "14553       14553               DET        Saddiq Bey  1.610613e+09   \n",
       "14554       14554               DET   Sekou Doumbouya  1.610613e+09   \n",
       "14555       14555               DET    Svi Mykhailiuk  1.610613e+09   \n",
       "14556       14556               DET        Tyler Cook  1.610613e+09   \n",
       "14557       14557               DET   Wayne Ellington  1.610613e+09   \n",
       "\n",
       "       PLAYER_ID_mean   MIN_mean   FGA_mean  FG_PCT_mean  FG3A_mean  \\\n",
       "0           1629164.0   4.625000   2.000000     0.333500   0.500000   \n",
       "1           1628981.0   5.977778   0.666667     0.333333   0.000000   \n",
       "2           1629629.0  32.450000  10.500000     0.428000   3.000000   \n",
       "3            203991.0  28.394444  11.000000     0.685000   0.000000   \n",
       "4            201568.0  27.522222  14.333333     0.395667   8.333333   \n",
       "...               ...        ...        ...          ...        ...   \n",
       "14553       1630180.0  35.566667  14.666667     0.288000  10.333333   \n",
       "14554       1629635.0  22.127778   8.333333     0.333333   2.333333   \n",
       "14555       1629004.0  26.200000  11.000000     0.364000  10.000000   \n",
       "14556       1629076.0  12.150000   4.500000     0.333500   0.000000   \n",
       "14557        201961.0  20.850000   7.000000     0.286000   6.000000   \n",
       "\n",
       "       FG3_PCT_mean  ...  REB_q75  AST_q75  STL_q75  TO_q75  PF_q75  PTS_q75  \\\n",
       "0          0.500000  ...     0.00     0.00     0.00    0.75    0.00     3.75   \n",
       "1          0.000000  ...     2.50     0.00     0.00    0.50    1.00     1.00   \n",
       "2          0.250000  ...     5.75     2.25     4.25    0.75    2.75    12.00   \n",
       "3          0.000000  ...    14.50     1.00     1.00    1.50    2.50    24.00   \n",
       "4          0.484000  ...     4.00     2.50     1.50    3.00    2.50    23.50   \n",
       "...             ...  ...      ...      ...      ...     ...     ...      ...   \n",
       "14553      0.353667  ...     8.00     4.00     1.00    0.00    1.50    18.00   \n",
       "14554      0.133333  ...     6.50     1.50     0.50    1.00    2.00    14.50   \n",
       "14555      0.300000  ...     4.00     8.00     2.00    1.00    2.00    11.00   \n",
       "14556      0.000000  ...     5.25     1.50     0.00    0.00    0.75     9.00   \n",
       "14557      0.167000  ...     5.00     1.00     0.00    1.00    2.00     5.00   \n",
       "\n",
       "       PLUS_MINUS_q75  numero_enfrentamientos   matchup  target  \n",
       "0                 6.5                       3  ATLvsBOS    none  \n",
       "1                -0.5                       3  ATLvsBOS    none  \n",
       "2                 4.5                       3  ATLvsBOS    none  \n",
       "3                11.0                       3  ATLvsBOS    none  \n",
       "4                17.0                       3  ATLvsBOS    none  \n",
       "...               ...                     ...       ...     ...  \n",
       "14553             1.0                       3  DETvsCHA    none  \n",
       "14554            -7.0                       3  DETvsCHA    none  \n",
       "14555             3.0                       3  DETvsCHA    none  \n",
       "14556            -2.5                       3  DETvsCHA    none  \n",
       "14557            -3.0                       3  DETvsCHA    none  \n",
       "\n",
       "[14558 rows x 142 columns]"
      ]
     },
     "execution_count": 83,
     "metadata": {},
     "output_type": "execute_result"
    }
   ],
   "source": [
    "df"
   ]
  },
  {
   "cell_type": "markdown",
   "id": "a6b0fa3e",
   "metadata": {},
   "source": [
    "### EL objetivo de modelo es predecir los partidos de playoff, a partir de los partidos de la fase regular. Por tanto los equipos que no pasan a play off no aportan información al modelo, serán borrados del df"
   ]
  },
  {
   "cell_type": "code",
   "execution_count": 84,
   "id": "4e02632d",
   "metadata": {},
   "outputs": [],
   "source": [
    "df_modelo = df[df[\"target\"]!=\"none\"]"
   ]
  },
  {
   "cell_type": "code",
   "execution_count": 85,
   "id": "56c4a992",
   "metadata": {},
   "outputs": [
    {
     "data": {
      "text/html": [
       "<div>\n",
       "<style scoped>\n",
       "    .dataframe tbody tr th:only-of-type {\n",
       "        vertical-align: middle;\n",
       "    }\n",
       "\n",
       "    .dataframe tbody tr th {\n",
       "        vertical-align: top;\n",
       "    }\n",
       "\n",
       "    .dataframe thead th {\n",
       "        text-align: right;\n",
       "    }\n",
       "</style>\n",
       "<table border=\"1\" class=\"dataframe\">\n",
       "  <thead>\n",
       "    <tr style=\"text-align: right;\">\n",
       "      <th></th>\n",
       "      <th>Unnamed: 0</th>\n",
       "      <th>TEAM_ABBREVIATION</th>\n",
       "      <th>PLAYER_NAME</th>\n",
       "      <th>TEAM_ID_mean</th>\n",
       "      <th>PLAYER_ID_mean</th>\n",
       "      <th>MIN_mean</th>\n",
       "      <th>FGA_mean</th>\n",
       "      <th>FG_PCT_mean</th>\n",
       "      <th>FG3A_mean</th>\n",
       "      <th>FG3_PCT_mean</th>\n",
       "      <th>...</th>\n",
       "      <th>REB_q75</th>\n",
       "      <th>AST_q75</th>\n",
       "      <th>STL_q75</th>\n",
       "      <th>TO_q75</th>\n",
       "      <th>PF_q75</th>\n",
       "      <th>PTS_q75</th>\n",
       "      <th>PLUS_MINUS_q75</th>\n",
       "      <th>numero_enfrentamientos</th>\n",
       "      <th>matchup</th>\n",
       "      <th>target</th>\n",
       "    </tr>\n",
       "  </thead>\n",
       "  <tbody>\n",
       "    <tr>\n",
       "      <th>392</th>\n",
       "      <td>392</td>\n",
       "      <td>ATL</td>\n",
       "      <td>Bogdan Bogdanovic</td>\n",
       "      <td>1.610613e+09</td>\n",
       "      <td>203992.0</td>\n",
       "      <td>30.450000</td>\n",
       "      <td>11.000000</td>\n",
       "      <td>0.377000</td>\n",
       "      <td>6.500000</td>\n",
       "      <td>0.366500</td>\n",
       "      <td>...</td>\n",
       "      <td>5.00</td>\n",
       "      <td>3.75</td>\n",
       "      <td>2.25</td>\n",
       "      <td>3.25</td>\n",
       "      <td>3.75</td>\n",
       "      <td>15.75</td>\n",
       "      <td>-13.00</td>\n",
       "      <td>3</td>\n",
       "      <td>ATLvsNYK</td>\n",
       "      <td>G</td>\n",
       "    </tr>\n",
       "    <tr>\n",
       "      <th>393</th>\n",
       "      <td>393</td>\n",
       "      <td>ATL</td>\n",
       "      <td>Brandon Goodwin</td>\n",
       "      <td>1.610613e+09</td>\n",
       "      <td>1629164.0</td>\n",
       "      <td>13.600000</td>\n",
       "      <td>3.500000</td>\n",
       "      <td>0.166500</td>\n",
       "      <td>2.000000</td>\n",
       "      <td>0.250000</td>\n",
       "      <td>...</td>\n",
       "      <td>0.75</td>\n",
       "      <td>0.75</td>\n",
       "      <td>0.00</td>\n",
       "      <td>0.00</td>\n",
       "      <td>0.75</td>\n",
       "      <td>5.25</td>\n",
       "      <td>-13.75</td>\n",
       "      <td>3</td>\n",
       "      <td>ATLvsNYK</td>\n",
       "      <td>G</td>\n",
       "    </tr>\n",
       "    <tr>\n",
       "      <th>394</th>\n",
       "      <td>394</td>\n",
       "      <td>ATL</td>\n",
       "      <td>Cam Reddish</td>\n",
       "      <td>1.610613e+09</td>\n",
       "      <td>1629629.0</td>\n",
       "      <td>33.000000</td>\n",
       "      <td>11.500000</td>\n",
       "      <td>0.348500</td>\n",
       "      <td>7.000000</td>\n",
       "      <td>0.291500</td>\n",
       "      <td>...</td>\n",
       "      <td>5.50</td>\n",
       "      <td>1.75</td>\n",
       "      <td>0.00</td>\n",
       "      <td>2.75</td>\n",
       "      <td>3.50</td>\n",
       "      <td>14.50</td>\n",
       "      <td>-4.25</td>\n",
       "      <td>3</td>\n",
       "      <td>ATLvsNYK</td>\n",
       "      <td>G</td>\n",
       "    </tr>\n",
       "    <tr>\n",
       "      <th>395</th>\n",
       "      <td>395</td>\n",
       "      <td>ATL</td>\n",
       "      <td>Clint Capela</td>\n",
       "      <td>1.610613e+09</td>\n",
       "      <td>203991.0</td>\n",
       "      <td>36.083333</td>\n",
       "      <td>11.666667</td>\n",
       "      <td>0.685333</td>\n",
       "      <td>0.000000</td>\n",
       "      <td>0.000000</td>\n",
       "      <td>...</td>\n",
       "      <td>20.00</td>\n",
       "      <td>1.00</td>\n",
       "      <td>1.50</td>\n",
       "      <td>1.00</td>\n",
       "      <td>3.00</td>\n",
       "      <td>20.00</td>\n",
       "      <td>0.50</td>\n",
       "      <td>3</td>\n",
       "      <td>ATLvsNYK</td>\n",
       "      <td>G</td>\n",
       "    </tr>\n",
       "    <tr>\n",
       "      <th>396</th>\n",
       "      <td>396</td>\n",
       "      <td>ATL</td>\n",
       "      <td>Danilo Gallinari</td>\n",
       "      <td>1.610613e+09</td>\n",
       "      <td>201568.0</td>\n",
       "      <td>26.016667</td>\n",
       "      <td>5.000000</td>\n",
       "      <td>0.600000</td>\n",
       "      <td>4.000000</td>\n",
       "      <td>0.750000</td>\n",
       "      <td>...</td>\n",
       "      <td>5.00</td>\n",
       "      <td>0.00</td>\n",
       "      <td>0.00</td>\n",
       "      <td>0.00</td>\n",
       "      <td>5.00</td>\n",
       "      <td>16.00</td>\n",
       "      <td>-14.00</td>\n",
       "      <td>3</td>\n",
       "      <td>ATLvsNYK</td>\n",
       "      <td>G</td>\n",
       "    </tr>\n",
       "    <tr>\n",
       "      <th>...</th>\n",
       "      <td>...</td>\n",
       "      <td>...</td>\n",
       "      <td>...</td>\n",
       "      <td>...</td>\n",
       "      <td>...</td>\n",
       "      <td>...</td>\n",
       "      <td>...</td>\n",
       "      <td>...</td>\n",
       "      <td>...</td>\n",
       "      <td>...</td>\n",
       "      <td>...</td>\n",
       "      <td>...</td>\n",
       "      <td>...</td>\n",
       "      <td>...</td>\n",
       "      <td>...</td>\n",
       "      <td>...</td>\n",
       "      <td>...</td>\n",
       "      <td>...</td>\n",
       "      <td>...</td>\n",
       "      <td>...</td>\n",
       "      <td>...</td>\n",
       "    </tr>\n",
       "    <tr>\n",
       "      <th>14310</th>\n",
       "      <td>14310</td>\n",
       "      <td>UTA</td>\n",
       "      <td>Mike Conley</td>\n",
       "      <td>1.610613e+09</td>\n",
       "      <td>201144.0</td>\n",
       "      <td>33.758333</td>\n",
       "      <td>14.500000</td>\n",
       "      <td>0.433000</td>\n",
       "      <td>7.333333</td>\n",
       "      <td>0.456667</td>\n",
       "      <td>...</td>\n",
       "      <td>5.75</td>\n",
       "      <td>10.25</td>\n",
       "      <td>1.00</td>\n",
       "      <td>2.75</td>\n",
       "      <td>3.75</td>\n",
       "      <td>25.00</td>\n",
       "      <td>11.00</td>\n",
       "      <td>7</td>\n",
       "      <td>UTAvsMEM</td>\n",
       "      <td>G</td>\n",
       "    </tr>\n",
       "    <tr>\n",
       "      <th>14311</th>\n",
       "      <td>14311</td>\n",
       "      <td>UTA</td>\n",
       "      <td>Miye Oni</td>\n",
       "      <td>1.610613e+09</td>\n",
       "      <td>1629671.0</td>\n",
       "      <td>10.187500</td>\n",
       "      <td>2.250000</td>\n",
       "      <td>0.083250</td>\n",
       "      <td>2.250000</td>\n",
       "      <td>0.083250</td>\n",
       "      <td>...</td>\n",
       "      <td>1.25</td>\n",
       "      <td>1.00</td>\n",
       "      <td>1.00</td>\n",
       "      <td>0.00</td>\n",
       "      <td>2.25</td>\n",
       "      <td>0.75</td>\n",
       "      <td>5.75</td>\n",
       "      <td>7</td>\n",
       "      <td>UTAvsMEM</td>\n",
       "      <td>G</td>\n",
       "    </tr>\n",
       "    <tr>\n",
       "      <th>14312</th>\n",
       "      <td>14312</td>\n",
       "      <td>UTA</td>\n",
       "      <td>Royce O'Neale</td>\n",
       "      <td>1.610613e+09</td>\n",
       "      <td>1626220.0</td>\n",
       "      <td>33.159524</td>\n",
       "      <td>6.142857</td>\n",
       "      <td>0.487143</td>\n",
       "      <td>4.285714</td>\n",
       "      <td>0.453000</td>\n",
       "      <td>...</td>\n",
       "      <td>9.00</td>\n",
       "      <td>3.00</td>\n",
       "      <td>1.50</td>\n",
       "      <td>1.50</td>\n",
       "      <td>4.00</td>\n",
       "      <td>11.00</td>\n",
       "      <td>9.50</td>\n",
       "      <td>7</td>\n",
       "      <td>UTAvsMEM</td>\n",
       "      <td>G</td>\n",
       "    </tr>\n",
       "    <tr>\n",
       "      <th>14313</th>\n",
       "      <td>14313</td>\n",
       "      <td>UTA</td>\n",
       "      <td>Rudy Gobert</td>\n",
       "      <td>1.610613e+09</td>\n",
       "      <td>203497.0</td>\n",
       "      <td>31.980952</td>\n",
       "      <td>8.857143</td>\n",
       "      <td>0.733571</td>\n",
       "      <td>0.142857</td>\n",
       "      <td>0.000000</td>\n",
       "      <td>...</td>\n",
       "      <td>14.00</td>\n",
       "      <td>2.00</td>\n",
       "      <td>0.00</td>\n",
       "      <td>2.00</td>\n",
       "      <td>4.50</td>\n",
       "      <td>19.00</td>\n",
       "      <td>13.00</td>\n",
       "      <td>7</td>\n",
       "      <td>UTAvsMEM</td>\n",
       "      <td>G</td>\n",
       "    </tr>\n",
       "    <tr>\n",
       "      <th>14314</th>\n",
       "      <td>14314</td>\n",
       "      <td>UTA</td>\n",
       "      <td>Trent Forrest</td>\n",
       "      <td>1.610613e+09</td>\n",
       "      <td>1630235.0</td>\n",
       "      <td>6.533333</td>\n",
       "      <td>3.000000</td>\n",
       "      <td>0.667000</td>\n",
       "      <td>0.000000</td>\n",
       "      <td>0.000000</td>\n",
       "      <td>...</td>\n",
       "      <td>1.00</td>\n",
       "      <td>0.00</td>\n",
       "      <td>0.00</td>\n",
       "      <td>1.00</td>\n",
       "      <td>0.00</td>\n",
       "      <td>4.00</td>\n",
       "      <td>-10.00</td>\n",
       "      <td>7</td>\n",
       "      <td>UTAvsMEM</td>\n",
       "      <td>G</td>\n",
       "    </tr>\n",
       "  </tbody>\n",
       "</table>\n",
       "<p>2219 rows × 142 columns</p>\n",
       "</div>"
      ],
      "text/plain": [
       "       Unnamed: 0 TEAM_ABBREVIATION        PLAYER_NAME  TEAM_ID_mean  \\\n",
       "392           392               ATL  Bogdan Bogdanovic  1.610613e+09   \n",
       "393           393               ATL    Brandon Goodwin  1.610613e+09   \n",
       "394           394               ATL        Cam Reddish  1.610613e+09   \n",
       "395           395               ATL       Clint Capela  1.610613e+09   \n",
       "396           396               ATL   Danilo Gallinari  1.610613e+09   \n",
       "...           ...               ...                ...           ...   \n",
       "14310       14310               UTA        Mike Conley  1.610613e+09   \n",
       "14311       14311               UTA           Miye Oni  1.610613e+09   \n",
       "14312       14312               UTA      Royce O'Neale  1.610613e+09   \n",
       "14313       14313               UTA        Rudy Gobert  1.610613e+09   \n",
       "14314       14314               UTA      Trent Forrest  1.610613e+09   \n",
       "\n",
       "       PLAYER_ID_mean   MIN_mean   FGA_mean  FG_PCT_mean  FG3A_mean  \\\n",
       "392          203992.0  30.450000  11.000000     0.377000   6.500000   \n",
       "393         1629164.0  13.600000   3.500000     0.166500   2.000000   \n",
       "394         1629629.0  33.000000  11.500000     0.348500   7.000000   \n",
       "395          203991.0  36.083333  11.666667     0.685333   0.000000   \n",
       "396          201568.0  26.016667   5.000000     0.600000   4.000000   \n",
       "...               ...        ...        ...          ...        ...   \n",
       "14310        201144.0  33.758333  14.500000     0.433000   7.333333   \n",
       "14311       1629671.0  10.187500   2.250000     0.083250   2.250000   \n",
       "14312       1626220.0  33.159524   6.142857     0.487143   4.285714   \n",
       "14313        203497.0  31.980952   8.857143     0.733571   0.142857   \n",
       "14314       1630235.0   6.533333   3.000000     0.667000   0.000000   \n",
       "\n",
       "       FG3_PCT_mean  ...  REB_q75  AST_q75  STL_q75  TO_q75  PF_q75  PTS_q75  \\\n",
       "392        0.366500  ...     5.00     3.75     2.25    3.25    3.75    15.75   \n",
       "393        0.250000  ...     0.75     0.75     0.00    0.00    0.75     5.25   \n",
       "394        0.291500  ...     5.50     1.75     0.00    2.75    3.50    14.50   \n",
       "395        0.000000  ...    20.00     1.00     1.50    1.00    3.00    20.00   \n",
       "396        0.750000  ...     5.00     0.00     0.00    0.00    5.00    16.00   \n",
       "...             ...  ...      ...      ...      ...     ...     ...      ...   \n",
       "14310      0.456667  ...     5.75    10.25     1.00    2.75    3.75    25.00   \n",
       "14311      0.083250  ...     1.25     1.00     1.00    0.00    2.25     0.75   \n",
       "14312      0.453000  ...     9.00     3.00     1.50    1.50    4.00    11.00   \n",
       "14313      0.000000  ...    14.00     2.00     0.00    2.00    4.50    19.00   \n",
       "14314      0.000000  ...     1.00     0.00     0.00    1.00    0.00     4.00   \n",
       "\n",
       "       PLUS_MINUS_q75  numero_enfrentamientos   matchup  target  \n",
       "392            -13.00                       3  ATLvsNYK       G  \n",
       "393            -13.75                       3  ATLvsNYK       G  \n",
       "394             -4.25                       3  ATLvsNYK       G  \n",
       "395              0.50                       3  ATLvsNYK       G  \n",
       "396            -14.00                       3  ATLvsNYK       G  \n",
       "...               ...                     ...       ...     ...  \n",
       "14310           11.00                       7  UTAvsMEM       G  \n",
       "14311            5.75                       7  UTAvsMEM       G  \n",
       "14312            9.50                       7  UTAvsMEM       G  \n",
       "14313           13.00                       7  UTAvsMEM       G  \n",
       "14314          -10.00                       7  UTAvsMEM       G  \n",
       "\n",
       "[2219 rows x 142 columns]"
      ]
     },
     "execution_count": 85,
     "metadata": {},
     "output_type": "execute_result"
    }
   ],
   "source": [
    "df_modelo"
   ]
  },
  {
   "cell_type": "markdown",
   "id": "7cfba69d",
   "metadata": {},
   "source": [
    "## Dejar el último número de enfrentamientos como test, los anteriores como train"
   ]
  },
  {
   "cell_type": "markdown",
   "id": "a834b7e7",
   "metadata": {},
   "source": [
    "### Contrucción del x_test, e y_test con el último número de enfrentamientos"
   ]
  },
  {
   "cell_type": "code",
   "execution_count": 86,
   "id": "e237ec92",
   "metadata": {},
   "outputs": [],
   "source": [
    "x_prueba =pd.DataFrame()\n",
    "for k in range(len(combinaciones_games)):     \n",
    "    c1 = (combinaciones_games[k][0])\n",
    "    c2 = (combinaciones_games[k][1])     \n",
    "\n",
    "    df_matchup_pof = df_modelo[df_modelo[\"matchup\"]==c1+\"vs\"+c2]#[\"numero_enfrentamientos\"]==maximo\n",
    "    maximo = df_matchup_pof[\"numero_enfrentamientos\"].max()\n",
    "\n",
    "\n",
    "    x_prueba = pd.concat([x_prueba, df_matchup_pof[df_matchup_pof[\"numero_enfrentamientos\"]==maximo]])"
   ]
  },
  {
   "cell_type": "code",
   "execution_count": 87,
   "id": "d4f94ffc",
   "metadata": {},
   "outputs": [],
   "source": [
    "x_test = x_prueba.iloc[:,:-1]\n",
    "y_test =  x_prueba.iloc[:,-1]\n"
   ]
  },
  {
   "cell_type": "code",
   "execution_count": null,
   "id": "6657116b",
   "metadata": {},
   "outputs": [],
   "source": []
  },
  {
   "cell_type": "markdown",
   "id": "5cfb1c9c",
   "metadata": {},
   "source": [
    "### Contrucción del x_train e y_train con los anteriores al último número de enfrentamientos"
   ]
  },
  {
   "cell_type": "code",
   "execution_count": 88,
   "id": "0c5c55f2",
   "metadata": {},
   "outputs": [],
   "source": [
    "x_entrenamiento = pd.DataFrame()\n",
    "for k in range(len(combinaciones_games)):     \n",
    "    c1 = (combinaciones_games[k][0])\n",
    "    c2 = (combinaciones_games[k][1])   \n",
    "\n",
    "\n",
    "    df_matchup_pof = df_modelo[df_modelo[\"matchup\"]==c1+\"vs\"+c2]\n",
    "    indices = df_matchup_pof[\"numero_enfrentamientos\"].unique()[:-1]\n",
    "\n",
    "    x_entrenamiento = pd.concat([x_entrenamiento, df_matchup_pof[df_matchup_pof[\"numero_enfrentamientos\"].isin(indices)] ])"
   ]
  },
  {
   "cell_type": "code",
   "execution_count": 89,
   "id": "73fb4c4a",
   "metadata": {},
   "outputs": [],
   "source": [
    "x_train = x_entrenamiento.iloc[:,:-1]\n",
    "y_train = x_entrenamiento.iloc[:,-1]\n"
   ]
  },
  {
   "cell_type": "markdown",
   "id": "56515467",
   "metadata": {},
   "source": [
    "## Label encoding para matchup, eliminar team_Abreviation y player name, porque tenemos id de las 2"
   ]
  },
  {
   "cell_type": "code",
   "execution_count": 90,
   "id": "b1f4b32f",
   "metadata": {},
   "outputs": [],
   "source": [
    "x_train.drop([\"TEAM_ABBREVIATION\",\"PLAYER_NAME\" ], axis=1, inplace=True)\n",
    "x_test.drop([\"TEAM_ABBREVIATION\",\"PLAYER_NAME\" ], axis=1, inplace=True)"
   ]
  },
  {
   "cell_type": "code",
   "execution_count": 91,
   "id": "c9ed0a41",
   "metadata": {},
   "outputs": [],
   "source": [
    "#label encoding\n",
    "class_labelEncoding = LabelEncoder()\n",
    "class_labelEncoding.fit(x_train[\"matchup\"].values)\n",
    "\n",
    "clase_train = class_labelEncoding.transform(x_train[\"matchup\"].values)\n",
    "clase_test = class_labelEncoding.transform(x_test[\"matchup\"].values)\n",
    "\n"
   ]
  },
  {
   "cell_type": "code",
   "execution_count": 92,
   "id": "4a7d7aea",
   "metadata": {},
   "outputs": [],
   "source": [
    "x_train[\"matchup\"]=clase_train\n",
    "x_test[\"matchup\"]=clase_test"
   ]
  },
  {
   "cell_type": "markdown",
   "id": "85df2a2e",
   "metadata": {},
   "source": [
    "### Escalar datos"
   ]
  },
  {
   "cell_type": "code",
   "execution_count": 93,
   "id": "c78a4871",
   "metadata": {},
   "outputs": [],
   "source": [
    "scaler = MinMaxScaler()\n",
    "x_train_esc = scaler.fit_transform(x_train)\n",
    "x_test_esc  = scaler.transform(x_train)"
   ]
  },
  {
   "cell_type": "markdown",
   "id": "d8ba8b2a",
   "metadata": {},
   "source": [
    "# Modelo random forest"
   ]
  },
  {
   "cell_type": "markdown",
   "id": "3ac711b0",
   "metadata": {},
   "source": [
    "## Grid Search"
   ]
  },
  {
   "cell_type": "code",
   "execution_count": 264,
   "id": "96336fe0",
   "metadata": {},
   "outputs": [],
   "source": [
    "params={'n_estimators': [100,200,300],#Así se le asignan las posibilidades del valor que pueda tomat el parámetro\n",
    "        'criterion':['gini','entropy'],\n",
    "        #'max_depth': [3,4,5],# Maxima pofundidad del arbol\n",
    "        'max_features': [2, 138], # numero de features a considerar en cada split\n",
    "        'max_leaf_nodes': [16], # maximo de nodos del arbol\n",
    "        #'min_impurity_decrease' : [0.02,0.3], # un nuevo nodo se hará si al hacerse se decrece la impurity en un threshold por encima del valor\n",
    "        'min_samples_split': [15,30] # The minimum number of samples required to split an internal node\n",
    "        }"
   ]
  },
  {
   "cell_type": "code",
   "execution_count": 265,
   "id": "80f91998",
   "metadata": {},
   "outputs": [
    {
     "name": "stdout",
     "output_type": "stream",
     "text": [
      "0.5316789227259882\n",
      "0.5291351333168329\n",
      "0.5320944906124961\n",
      "0.5588104032009851\n",
      "{'criterion': 'entropy', 'max_features': 138, 'max_leaf_nodes': 16, 'min_samples_split': 15, 'n_estimators': 300}\n"
     ]
    }
   ],
   "source": [
    "# creamos la GridSeacrh\n",
    "#Esta celda como pa tomar desiciones, da las buenas combinaciones y los scores\n",
    "\n",
    "scorers = {\"f1_macro\",\"accuracy\",\"recall_macro\"}#las métricas que quiero\n",
    "clf = RandomForestClassifier()\n",
    "grid_solver = GridSearchCV(estimator = clf, #el clasificador\n",
    "                   param_grid = params, #el diccionario params\n",
    "                   scoring=scorers,# las métricas\n",
    "                   cv = 5,#hace k fold\n",
    "                   refit=\"accuracy\",#métrica pa mejorar, la que más importa\n",
    "                   n_jobs=-1)\n",
    "\n",
    "model_result = grid_solver.fit(x_train,y_train)\n",
    "\n",
    "print(model_result.cv_results_[\"mean_test_recall_macro\"].mean())\n",
    "print(model_result.cv_results_[\"mean_test_f1_macro\"].mean())\n",
    "print(model_result.cv_results_[\"mean_test_accuracy\"].mean())\n",
    "print(model_result.best_score_)\n",
    "print(model_result.best_params_)"
   ]
  },
  {
   "cell_type": "code",
   "execution_count": 260,
   "id": "24d9e8e1",
   "metadata": {},
   "outputs": [
    {
     "data": {
      "text/plain": [
       "(138,)"
      ]
     },
     "execution_count": 260,
     "metadata": {},
     "output_type": "execute_result"
    }
   ],
   "source": [
    "x_train.columns.shape"
   ]
  },
  {
   "cell_type": "markdown",
   "id": "7f02ef75",
   "metadata": {},
   "source": [
    "### Grid Serach2"
   ]
  },
  {
   "cell_type": "code",
   "execution_count": 262,
   "id": "a5eda91d",
   "metadata": {},
   "outputs": [],
   "source": [
    "params={'n_estimators': [300,400,500],#Así se le asignan las posibilidades del valor que pueda tomat el parámetro\n",
    "        'criterion':['gini','entropy'],\n",
    "        #'max_depth': [3,4,5],# Maxima pofundidad del arbol\n",
    "        'max_features': [2, 138], # numero de features a considerar en cada split\n",
    "        'max_leaf_nodes': [16], # maximo de nodos del arbol\n",
    "        #'min_impurity_decrease' : [0.02,0.3], # un nuevo nodo se hará si al hacerse se decrece la impurity en un threshold por encima del valor\n",
    "        'min_samples_split': [15,30] # The minimum number of samples required to split an internal node\n",
    "        }"
   ]
  },
  {
   "cell_type": "code",
   "execution_count": 263,
   "id": "4c3ca74a",
   "metadata": {
    "scrolled": true
   },
   "outputs": [
    {
     "name": "stdout",
     "output_type": "stream",
     "text": [
      "0.5323978464189233\n",
      "0.5301270196066382\n",
      "0.5328353595978249\n",
      "0.5493782702369959\n",
      "{'criterion': 'entropy', 'max_features': 138, 'max_leaf_nodes': 16, 'min_samples_split': 30, 'n_estimators': 300}\n"
     ]
    }
   ],
   "source": [
    "# creamos la GridSeacrh\n",
    "#Esta celda como pa tomar desiciones, da las buenas combinaciones y los scores\n",
    "\n",
    "scorers = {\"f1_macro\",\"accuracy\",\"recall_macro\"}#las métricas que quiero\n",
    "clf = RandomForestClassifier()\n",
    "grid_solver = GridSearchCV(estimator = clf, #el clasificador\n",
    "                   param_grid = params, #el diccionario params\n",
    "                   scoring=scorers,# las métricas\n",
    "                   cv = 5,#hace k fold\n",
    "                   refit=\"accuracy\",#métrica pa mejorar, la que más importa\n",
    "                   n_jobs=-1)\n",
    "\n",
    "model_result = grid_solver.fit(x_train,y_train)\n",
    "\n",
    "print(model_result.cv_results_[\"mean_test_recall_macro\"].mean())\n",
    "print(model_result.cv_results_[\"mean_test_f1_macro\"].mean())\n",
    "print(model_result.cv_results_[\"mean_test_accuracy\"].mean())\n",
    "print(model_result.best_score_)\n",
    "print(model_result.best_params_)"
   ]
  },
  {
   "cell_type": "markdown",
   "id": "570fb0b9",
   "metadata": {},
   "source": [
    "### Mejores parámetros random forest2"
   ]
  },
  {
   "cell_type": "code",
   "execution_count": null,
   "id": "e6a2ea1f",
   "metadata": {},
   "outputs": [],
   "source": [
    "{'criterion': 'entropy', 'max_features': 138, 'max_leaf_nodes': 16, 'min_samples_split': 30, 'n_estimators': 300}"
   ]
  },
  {
   "cell_type": "markdown",
   "id": "a79b5743",
   "metadata": {},
   "source": [
    "## Modelo Random Forest"
   ]
  },
  {
   "cell_type": "code",
   "execution_count": null,
   "id": "49daaf1a",
   "metadata": {},
   "outputs": [],
   "source": [
    "{'criterion': 'entropy', 'max_features': 138, 'max_leaf_nodes': 16, 'min_samples_split': 30, 'n_estimators': 300}"
   ]
  },
  {
   "cell_type": "code",
   "execution_count": 94,
   "id": "f1955fc8",
   "metadata": {},
   "outputs": [
    {
     "name": "stdout",
     "output_type": "stream",
     "text": [
      "Accuracy:  0.5035971223021583\n"
     ]
    }
   ],
   "source": [
    "{'criterion': 'entropy', 'max_features': 138, 'max_leaf_nodes': 16, 'min_samples_split': 30, 'n_estimators': 300}\n",
    "from sklearn.ensemble import RandomForestClassifier\n",
    "clf = RandomForestClassifier(n_estimators= 300,\n",
    "                             criterion= \"entropy\",\n",
    "                             #max_depth= 5,\n",
    "                             max_features= 138,\n",
    "                             max_leaf_nodes= 16,\n",
    "                             #min_impurity_decrease= 0.1,\n",
    "                             min_samples_split= 30,\n",
    "                             bootstrap=False,\n",
    "                             random_state=123456789,\n",
    "                             n_jobs= -1)\n",
    "\n",
    "clf.fit(x_train, y_train)\n",
    "yhat = clf.predict(x_test)\n",
    "print(\"Accuracy: \", accuracy_score(y_test,yhat))\n"
   ]
  },
  {
   "cell_type": "code",
   "execution_count": 269,
   "id": "07878dcc",
   "metadata": {},
   "outputs": [],
   "source": [
    "x_prueba[\"predicciones\"]=yhat"
   ]
  },
  {
   "cell_type": "code",
   "execution_count": 540,
   "id": "cf942fef",
   "metadata": {},
   "outputs": [
    {
     "data": {
      "text/html": [
       "<div>\n",
       "<style scoped>\n",
       "    .dataframe tbody tr th:only-of-type {\n",
       "        vertical-align: middle;\n",
       "    }\n",
       "\n",
       "    .dataframe tbody tr th {\n",
       "        vertical-align: top;\n",
       "    }\n",
       "\n",
       "    .dataframe thead th {\n",
       "        text-align: right;\n",
       "    }\n",
       "</style>\n",
       "<table border=\"1\" class=\"dataframe\">\n",
       "  <thead>\n",
       "    <tr style=\"text-align: right;\">\n",
       "      <th></th>\n",
       "      <th>TEAM_ABBREVIATION</th>\n",
       "      <th>PLAYER_NAME</th>\n",
       "      <th>TEAM_ID_mean</th>\n",
       "      <th>PLAYER_ID_mean</th>\n",
       "      <th>MIN_mean</th>\n",
       "      <th>FGA_mean</th>\n",
       "      <th>FG_PCT_mean</th>\n",
       "      <th>FG3A_mean</th>\n",
       "      <th>FG3_PCT_mean</th>\n",
       "      <th>FTA_mean</th>\n",
       "      <th>...</th>\n",
       "      <th>STL_q75</th>\n",
       "      <th>TO_q75</th>\n",
       "      <th>PF_q75</th>\n",
       "      <th>PTS_q75</th>\n",
       "      <th>PLUS_MINUS_q75</th>\n",
       "      <th>numero_enfrentamientos</th>\n",
       "      <th>matchup</th>\n",
       "      <th>target</th>\n",
       "      <th>predicciones</th>\n",
       "      <th>predicciones_proba</th>\n",
       "    </tr>\n",
       "  </thead>\n",
       "  <tbody>\n",
       "    <tr>\n",
       "      <th>507</th>\n",
       "      <td>ATL</td>\n",
       "      <td>Bogdan Bogdanovic</td>\n",
       "      <td>1.610613e+09</td>\n",
       "      <td>203992.0</td>\n",
       "      <td>33.991667</td>\n",
       "      <td>13.5</td>\n",
       "      <td>0.4110</td>\n",
       "      <td>8.0</td>\n",
       "      <td>0.420833</td>\n",
       "      <td>0.0</td>\n",
       "      <td>...</td>\n",
       "      <td>2.0</td>\n",
       "      <td>1.75</td>\n",
       "      <td>4.00</td>\n",
       "      <td>18.00</td>\n",
       "      <td>15.50</td>\n",
       "      <td>7</td>\n",
       "      <td>ATLvsNYK</td>\n",
       "      <td>G</td>\n",
       "      <td>P</td>\n",
       "      <td>0.429789</td>\n",
       "    </tr>\n",
       "    <tr>\n",
       "      <th>508</th>\n",
       "      <td>ATL</td>\n",
       "      <td>Brandon Goodwin</td>\n",
       "      <td>1.610613e+09</td>\n",
       "      <td>1629164.0</td>\n",
       "      <td>13.600000</td>\n",
       "      <td>3.5</td>\n",
       "      <td>0.1665</td>\n",
       "      <td>2.0</td>\n",
       "      <td>0.250000</td>\n",
       "      <td>1.0</td>\n",
       "      <td>...</td>\n",
       "      <td>0.0</td>\n",
       "      <td>0.00</td>\n",
       "      <td>0.75</td>\n",
       "      <td>5.25</td>\n",
       "      <td>-13.75</td>\n",
       "      <td>7</td>\n",
       "      <td>ATLvsNYK</td>\n",
       "      <td>G</td>\n",
       "      <td>G</td>\n",
       "      <td>0.537644</td>\n",
       "    </tr>\n",
       "  </tbody>\n",
       "</table>\n",
       "<p>2 rows × 143 columns</p>\n",
       "</div>"
      ],
      "text/plain": [
       "    TEAM_ABBREVIATION        PLAYER_NAME  TEAM_ID_mean  PLAYER_ID_mean  \\\n",
       "507               ATL  Bogdan Bogdanovic  1.610613e+09        203992.0   \n",
       "508               ATL    Brandon Goodwin  1.610613e+09       1629164.0   \n",
       "\n",
       "      MIN_mean  FGA_mean  FG_PCT_mean  FG3A_mean  FG3_PCT_mean  FTA_mean  ...  \\\n",
       "507  33.991667      13.5       0.4110        8.0      0.420833       0.0  ...   \n",
       "508  13.600000       3.5       0.1665        2.0      0.250000       1.0  ...   \n",
       "\n",
       "     STL_q75  TO_q75  PF_q75  PTS_q75  PLUS_MINUS_q75  numero_enfrentamientos  \\\n",
       "507      2.0    1.75    4.00    18.00           15.50                       7   \n",
       "508      0.0    0.00    0.75     5.25          -13.75                       7   \n",
       "\n",
       "      matchup  target  predicciones  predicciones_proba  \n",
       "507  ATLvsNYK       G             P            0.429789  \n",
       "508  ATLvsNYK       G             G            0.537644  \n",
       "\n",
       "[2 rows x 143 columns]"
      ]
     },
     "execution_count": 540,
     "metadata": {},
     "output_type": "execute_result"
    }
   ],
   "source": [
    "x_prueba.head(2)"
   ]
  },
  {
   "cell_type": "markdown",
   "id": "59954909",
   "metadata": {},
   "source": [
    "### Generar listas por game_id de los equipos ganadores reales y predichos"
   ]
  },
  {
   "cell_type": "code",
   "execution_count": 335,
   "id": "13a2e3af",
   "metadata": {},
   "outputs": [],
   "source": [
    "valores_predichos=[]\n",
    "valores_reales=[]\n",
    "for k in x_prueba[\"matchup\"]:     \n",
    "    c1 = k.split(\"vs\")[0]\n",
    "    c2 = k.split(\"vs\")[1]\n",
    "\n",
    "    try:\n",
    "        g_c1 = x_prueba[x_prueba[\"matchup\"]==c1+\"vs\"+c2][[\"TEAM_ABBREVIATION\",\"predicciones\"]].value_counts()[c1][\"G\"]\n",
    "    except:\n",
    "        g_c1=0\n",
    "\n",
    "    try:\n",
    "        p_c1 = x_prueba[x_prueba[\"matchup\"]==c1+\"vs\"+c2][[\"TEAM_ABBREVIATION\",\"predicciones\"]].value_counts()[c1][\"P\"]\n",
    "    except:\n",
    "        p_c1=0\n",
    "\n",
    "    try:\n",
    "        g_c2 = x_prueba[x_prueba[\"matchup\"]==c1+\"vs\"+c2][[\"TEAM_ABBREVIATION\",\"predicciones\"]].value_counts()[c2][\"G\"]\n",
    "    except:\n",
    "        g_c2 = 0\n",
    "\n",
    "    try:\n",
    "        p_c2 = x_prueba[x_prueba[\"matchup\"]==c1+\"vs\"+c2][[\"TEAM_ABBREVIATION\",\"predicciones\"]].value_counts()[c2][\"P\"]\n",
    "    except:\n",
    "        p_c2 = 0\n",
    "\n",
    "    if (g_c1 > g_c2) and (p_c1 < p_c2):\n",
    "        valores_predichos.append(c1)\n",
    "    elif (g_c1 > g_c2) and (p_c1 == p_c2):\n",
    "        valores_predichos.append(c1)\n",
    "    elif (g_c1 == g_c2) and (p_c1 < p_c2):\n",
    "        valores_predichos.append(c1)\n",
    "    elif (g_c1 == g_c2) and (p_c1 == p_c2):\n",
    "        valores_predichos.append(\"Empate\")\n",
    "    else:\n",
    "        valores_predichos.append(c2)\n",
    "\n",
    "    #Ganadores Reales\n",
    "    df_m = x_prueba[x_prueba[\"matchup\"]==c1+\"vs\"+c2]\n",
    "    valores_reales.append(df_m[df_m[\"target\"]==\"G\"][\"TEAM_ABBREVIATION\"].values[0])"
   ]
  },
  {
   "cell_type": "code",
   "execution_count": null,
   "id": "a10b0df2",
   "metadata": {},
   "outputs": [],
   "source": [
    "yhat = clf.predict(x_test)"
   ]
  },
  {
   "cell_type": "code",
   "execution_count": 338,
   "id": "eb31258b",
   "metadata": {},
   "outputs": [],
   "source": [
    "resultados = pd.DataFrame({\"Reales\":valores_reales, \"Predichos\":valores_predichos})"
   ]
  },
  {
   "cell_type": "code",
   "execution_count": 345,
   "id": "a7203f5d",
   "metadata": {},
   "outputs": [
    {
     "data": {
      "text/html": [
       "<div>\n",
       "<style scoped>\n",
       "    .dataframe tbody tr th:only-of-type {\n",
       "        vertical-align: middle;\n",
       "    }\n",
       "\n",
       "    .dataframe tbody tr th {\n",
       "        vertical-align: top;\n",
       "    }\n",
       "\n",
       "    .dataframe thead th {\n",
       "        text-align: right;\n",
       "    }\n",
       "</style>\n",
       "<table border=\"1\" class=\"dataframe\">\n",
       "  <thead>\n",
       "    <tr style=\"text-align: right;\">\n",
       "      <th></th>\n",
       "      <th>Reales</th>\n",
       "      <th>Predichos</th>\n",
       "      <th>comparacion</th>\n",
       "    </tr>\n",
       "  </thead>\n",
       "  <tbody>\n",
       "    <tr>\n",
       "      <th>0</th>\n",
       "      <td>ATL</td>\n",
       "      <td>ATL</td>\n",
       "      <td>1</td>\n",
       "    </tr>\n",
       "    <tr>\n",
       "      <th>1</th>\n",
       "      <td>ATL</td>\n",
       "      <td>ATL</td>\n",
       "      <td>1</td>\n",
       "    </tr>\n",
       "    <tr>\n",
       "      <th>2</th>\n",
       "      <td>ATL</td>\n",
       "      <td>ATL</td>\n",
       "      <td>1</td>\n",
       "    </tr>\n",
       "    <tr>\n",
       "      <th>3</th>\n",
       "      <td>ATL</td>\n",
       "      <td>ATL</td>\n",
       "      <td>1</td>\n",
       "    </tr>\n",
       "    <tr>\n",
       "      <th>4</th>\n",
       "      <td>ATL</td>\n",
       "      <td>ATL</td>\n",
       "      <td>1</td>\n",
       "    </tr>\n",
       "    <tr>\n",
       "      <th>...</th>\n",
       "      <td>...</td>\n",
       "      <td>...</td>\n",
       "      <td>...</td>\n",
       "    </tr>\n",
       "    <tr>\n",
       "      <th>412</th>\n",
       "      <td>UTA</td>\n",
       "      <td>UTA</td>\n",
       "      <td>1</td>\n",
       "    </tr>\n",
       "    <tr>\n",
       "      <th>413</th>\n",
       "      <td>UTA</td>\n",
       "      <td>UTA</td>\n",
       "      <td>1</td>\n",
       "    </tr>\n",
       "    <tr>\n",
       "      <th>414</th>\n",
       "      <td>UTA</td>\n",
       "      <td>UTA</td>\n",
       "      <td>1</td>\n",
       "    </tr>\n",
       "    <tr>\n",
       "      <th>415</th>\n",
       "      <td>UTA</td>\n",
       "      <td>UTA</td>\n",
       "      <td>1</td>\n",
       "    </tr>\n",
       "    <tr>\n",
       "      <th>416</th>\n",
       "      <td>UTA</td>\n",
       "      <td>UTA</td>\n",
       "      <td>1</td>\n",
       "    </tr>\n",
       "  </tbody>\n",
       "</table>\n",
       "<p>417 rows × 3 columns</p>\n",
       "</div>"
      ],
      "text/plain": [
       "    Reales Predichos  comparacion\n",
       "0      ATL       ATL            1\n",
       "1      ATL       ATL            1\n",
       "2      ATL       ATL            1\n",
       "3      ATL       ATL            1\n",
       "4      ATL       ATL            1\n",
       "..     ...       ...          ...\n",
       "412    UTA       UTA            1\n",
       "413    UTA       UTA            1\n",
       "414    UTA       UTA            1\n",
       "415    UTA       UTA            1\n",
       "416    UTA       UTA            1\n",
       "\n",
       "[417 rows x 3 columns]"
      ]
     },
     "execution_count": 345,
     "metadata": {},
     "output_type": "execute_result"
    }
   ],
   "source": [
    "comparacion = np.where(resultados['Reales'] == resultados['Predichos'], 1, 0)\n",
    "resultados[\"comparacion\"]=comparacion\n",
    "resultados"
   ]
  },
  {
   "cell_type": "code",
   "execution_count": 348,
   "id": "c66115ab",
   "metadata": {},
   "outputs": [
    {
     "data": {
      "text/plain": [
       "1    0.834532\n",
       "0    0.165468\n",
       "Name: comparacion, dtype: float64"
      ]
     },
     "execution_count": 348,
     "metadata": {},
     "output_type": "execute_result"
    }
   ],
   "source": [
    "resultados[\"comparacion\"].value_counts(normalize=True)"
   ]
  },
  {
   "cell_type": "markdown",
   "id": "756f803c",
   "metadata": {},
   "source": [
    "## Comparar resultados con probabilidad"
   ]
  },
  {
   "cell_type": "code",
   "execution_count": 483,
   "id": "315af04f",
   "metadata": {},
   "outputs": [],
   "source": [
    "yhat_proba = clf.predict_proba(x_test)"
   ]
  },
  {
   "cell_type": "code",
   "execution_count": 492,
   "id": "8c860ea9",
   "metadata": {},
   "outputs": [],
   "source": [
    "prob_ganar_pred = [yhat_proba[i][0] for i in range(len(yhat_proba))]\n"
   ]
  },
  {
   "cell_type": "code",
   "execution_count": 493,
   "id": "536dd31c",
   "metadata": {},
   "outputs": [],
   "source": [
    "x_prueba[\"predicciones_proba\"]=prob_ganar_pred"
   ]
  },
  {
   "cell_type": "code",
   "execution_count": 515,
   "id": "7e6744e3",
   "metadata": {},
   "outputs": [],
   "source": [
    "#Una combinación\n",
    "k=\"ATLvsPHI\"\n",
    "c1 = k.split(\"vs\")[0]\n",
    "c2 = k.split(\"vs\")[1]\n",
    "\n",
    "mat = x_prueba[x_prueba[\"matchup\"]==k]#[\"TEAM_ABBREVIATION\"]==\"ATL\"\n",
    "prob_c1 = mat[mat[\"TEAM_ABBREVIATION\"]==c1].groupby(\"TEAM_ABBREVIATION\").sum()[\"predicciones_proba\"]/len(mat[mat[\"TEAM_ABBREVIATION\"]==c1])\n",
    "\n",
    "\n",
    "mat = x_prueba[x_prueba[\"matchup\"]==k]#[\"TEAM_ABBREVIATION\"]==\"ATL\"\n",
    "prob_c2 = mat[mat[\"TEAM_ABBREVIATION\"]==c2].groupby(\"TEAM_ABBREVIATION\").sum()[\"predicciones_proba\"]/len(mat[mat[\"TEAM_ABBREVIATION\"]==c2])\n",
    "\n",
    "if prob_c1.values[0] >  prob_c2.values[0]:\n",
    "    print(c1)\n",
    "else:\n",
    "    print(c2)"
   ]
  },
  {
   "cell_type": "code",
   "execution_count": 512,
   "id": "fa381e79",
   "metadata": {},
   "outputs": [
    {
     "data": {
      "text/plain": [
       "TEAM_ABBREVIATION  predicciones\n",
       "PHI                G               16\n",
       "ATL                P                9\n",
       "                   G                8\n",
       "PHI                P                1\n",
       "dtype: int64"
      ]
     },
     "execution_count": 512,
     "metadata": {},
     "output_type": "execute_result"
    }
   ],
   "source": [
    "mat[[\"TEAM_ABBREVIATION\", \"predicciones\"]].value_counts()"
   ]
  },
  {
   "cell_type": "code",
   "execution_count": 530,
   "id": "9202c53a",
   "metadata": {},
   "outputs": [],
   "source": [
    "#Todas las combinaciones\n",
    "valores_predichos_proba=[]\n",
    "\n",
    "for k in x_prueba[\"matchup\"]:     \n",
    "    \n",
    "    c1 = k.split(\"vs\")[0]\n",
    "    c2 = k.split(\"vs\")[1]\n",
    "\n",
    "\n",
    "    mat = x_prueba[x_prueba[\"matchup\"]==k]\n",
    "    prob_c1 = mat[mat[\"TEAM_ABBREVIATION\"]==c1].groupby(\"TEAM_ABBREVIATION\").sum()[\"predicciones_proba\"]/len(mat[mat[\"TEAM_ABBREVIATION\"]==c1])\n",
    "\n",
    "\n",
    "    mat = x_prueba[x_prueba[\"matchup\"]==k]#[\"TEAM_ABBREVIATION\"]==\"ATL\"\n",
    "    prob_c2 = mat[mat[\"TEAM_ABBREVIATION\"]==c2].groupby(\"TEAM_ABBREVIATION\").sum()[\"predicciones_proba\"]/len(mat[mat[\"TEAM_ABBREVIATION\"]==c2])\n",
    "\n",
    "    if prob_c1.values[0] >  prob_c2.values[0]:\n",
    "        valores_predichos_proba.append(c1)\n",
    "    else:\n",
    "         valores_predichos_proba.append(c2)\n",
    "\n",
    "\n",
    "    "
   ]
  },
  {
   "cell_type": "code",
   "execution_count": 531,
   "id": "ebae45bf",
   "metadata": {},
   "outputs": [
    {
     "data": {
      "text/plain": [
       "417"
      ]
     },
     "execution_count": 531,
     "metadata": {},
     "output_type": "execute_result"
    }
   ],
   "source": [
    "len(valores_predichos_proba)"
   ]
  },
  {
   "cell_type": "code",
   "execution_count": 532,
   "id": "23191b8a",
   "metadata": {},
   "outputs": [],
   "source": [
    "resultados[\"predichos_proba\"]=valores_predichos_proba"
   ]
  },
  {
   "cell_type": "code",
   "execution_count": 535,
   "id": "9eeae593",
   "metadata": {},
   "outputs": [],
   "source": [
    "comparacion_proba = np.where(resultados['Reales'] == resultados['predichos_proba'], 1, 0)"
   ]
  },
  {
   "cell_type": "code",
   "execution_count": 536,
   "id": "5be92ebe",
   "metadata": {},
   "outputs": [],
   "source": [
    "resultados[\"comparacion_proba\"]=comparacion_proba"
   ]
  },
  {
   "cell_type": "code",
   "execution_count": 538,
   "id": "679146be",
   "metadata": {},
   "outputs": [
    {
     "data": {
      "text/plain": [
       "1    241\n",
       "0    176\n",
       "Name: comparacion_proba, dtype: int64"
      ]
     },
     "execution_count": 538,
     "metadata": {},
     "output_type": "execute_result"
    }
   ],
   "source": [
    "resultados[\"comparacion_proba\"].value_counts()"
   ]
  },
  {
   "cell_type": "code",
   "execution_count": 539,
   "id": "9a8d6636",
   "metadata": {},
   "outputs": [
    {
     "data": {
      "text/plain": [
       "0.5779376498800959"
      ]
     },
     "execution_count": 539,
     "metadata": {},
     "output_type": "execute_result"
    }
   ],
   "source": [
    "241/(176+241)"
   ]
  },
  {
   "cell_type": "markdown",
   "id": "c23aa143",
   "metadata": {},
   "source": [
    "## Predicción de un próximo partido "
   ]
  },
  {
   "cell_type": "markdown",
   "id": "aca60279",
   "metadata": {},
   "source": [
    "## Reentrenar con todos los datos, df_modelo"
   ]
  },
  {
   "cell_type": "code",
   "execution_count": 36,
   "id": "fbad28c8",
   "metadata": {},
   "outputs": [],
   "source": [
    "xtrain_entero = pd.concat([x_train, x_test])\n",
    "ytrain_entero = pd.concat([y_train, y_test])"
   ]
  },
  {
   "cell_type": "code",
   "execution_count": 44,
   "id": "9e7941ba",
   "metadata": {},
   "outputs": [],
   "source": [
    "#Cargar\n",
    "xtrain_entero.drop(\"Unnamed: 0\", axis=1, inplace=True)"
   ]
  },
  {
   "cell_type": "code",
   "execution_count": 45,
   "id": "51ebeec4",
   "metadata": {},
   "outputs": [
    {
     "data": {
      "text/plain": [
       "138"
      ]
     },
     "execution_count": 45,
     "metadata": {},
     "output_type": "execute_result"
    }
   ],
   "source": [
    "len(xtrain_entero.columns)"
   ]
  },
  {
   "cell_type": "code",
   "execution_count": null,
   "id": "ba23c09d",
   "metadata": {},
   "outputs": [],
   "source": [
    "{'criterion': 'entropy', 'max_features': 138, 'max_leaf_nodes': 16, 'min_samples_split': 30, 'n_estimators': 300}"
   ]
  },
  {
   "cell_type": "code",
   "execution_count": 46,
   "id": "faee0b50",
   "metadata": {},
   "outputs": [
    {
     "data": {
      "text/plain": [
       "RandomForestClassifier(bootstrap=False, criterion='entropy', max_features=138,\n",
       "                       max_leaf_nodes=16, min_samples_split=30,\n",
       "                       n_estimators=300, n_jobs=-1, random_state=123456789)"
      ]
     },
     "execution_count": 46,
     "metadata": {},
     "output_type": "execute_result"
    }
   ],
   "source": [
    "from sklearn.ensemble import RandomForestClassifier\n",
    "clf = RandomForestClassifier(n_estimators= 300,\n",
    "                             criterion= \"entropy\",\n",
    "                             #max_depth= 5,\n",
    "                             max_features= 138,\n",
    "                             max_leaf_nodes= 16,\n",
    "                             #min_impurity_decrease= 0.1,\n",
    "                             min_samples_split= 30,\n",
    "                             bootstrap=False,\n",
    "                             random_state=123456789,\n",
    "                             n_jobs= -1)\n",
    "\n",
    "clf.fit(xtrain_entero, ytrain_entero)\n",
    "#yhat = clf.predict(x_test)\n",
    "#print(\"Accuracy: \", accuracy_score(y_test,yhat))\n"
   ]
  },
  {
   "cell_type": "markdown",
   "id": "486d674d",
   "metadata": {},
   "source": [
    "## Guardar el modelo"
   ]
  },
  {
   "cell_type": "code",
   "execution_count": 47,
   "id": "db78088d",
   "metadata": {},
   "outputs": [],
   "source": [
    "import pickle\n",
    "#Guardar\n",
    "pickle.dump(clf, open('finalized_model.sav', 'wb'))\n",
    "#Cargar\n",
    "loaded_model = pickle.load(open(\"finalized_model.sav\", 'rb'))\n"
   ]
  },
  {
   "cell_type": "code",
   "execution_count": null,
   "id": "d709f1d2",
   "metadata": {},
   "outputs": [],
   "source": [
    "loaded_model.predict"
   ]
  },
  {
   "cell_type": "markdown",
   "id": "9828a371",
   "metadata": {},
   "source": [
    "# Predicción de un resultado dados dos ciudades que se enfrentan:\n",
    "    Recibe, las siglas de las ciudades que se enfrentan, la fecha de inicio de temporada.\n"
   ]
  },
  {
   "cell_type": "code",
   "execution_count": null,
   "id": "6bb0d0c4",
   "metadata": {},
   "outputs": [],
   "source": []
  },
  {
   "cell_type": "code",
   "execution_count": 2,
   "id": "5e576792",
   "metadata": {},
   "outputs": [],
   "source": [
    "#city_a = \"LAC\"\n",
    "#city_b = \"PHX\"\n",
    "\n",
    "def apuesta(city_a, city_b, inicio_temporada):\n",
    "    inicio_temporada = \"2020-12-22\"\n",
    "    trad = pd.DataFrame()\n",
    "    df_medidas_trad = pd.DataFrame()\n",
    "\n",
    "    nba_teams = teams.get_teams()\n",
    "    # Select the dictionary for the Celtics, which contains their team ID\n",
    "    celtics = [team for team in nba_teams if team['abbreviation'] == city_a][0]\n",
    "    celtics_id = celtics['id']\n",
    "\n",
    "    # Query for games where the Celtics were playing\n",
    "    gamefinder = leaguegamefinder.LeagueGameFinder(team_id_nullable=celtics_id)\n",
    "    # The first DataFrame of those returned is what we want.\n",
    "    games = gamefinder.get_data_frames()[0]\n",
    "\n",
    "    games[\"GAME_DATE\"]= games [\"GAME_DATE\"].astype(\"datetime64\")#Convertimos en formato fecha el game_date\n",
    "    games_temporada = games[games[\"GAME_DATE\"]>=inicio_temporada]#Escoger los partidos dentro de la temporada\n",
    "    #Filtrar por la ciudad rival\n",
    "    games_temporada = games_temporada[games_temporada[\"MATCHUP\"].isin([city_a+\" @ \"+city_b, city_a+\" vs. \"+city_b])].sort_values(\"GAME_DATE\",ascending=False)\n",
    "\n",
    "    #reiniciar index\n",
    "    games_temporada = games_temporada.reset_index()\n",
    "    games_temporada.drop(\"index\", axis=1, inplace=True)\n",
    "\n",
    "    games_temporada[\"GAME_DATE\"] = games_temporada[\"GAME_DATE\"].map(lambda x: x.strftime(\"%Y-%m-%d\"))#Cambiamos fecha a str\n",
    "    fechas_partidos = games_temporada[\"GAME_DATE\"].values\n",
    "\n",
    "    #Guardo en id_games los id de los juegos de la temporada entre city_a y city_b\n",
    "    id_games = games_temporada[\"GAME_ID\"].values\n",
    "\n",
    "\n",
    "\n",
    "    #Concatenar los df de estadísticas tradicionales de cada juego\n",
    "    for i in id_games:    \n",
    "        # Here we access the leagueleaders module through endpoints & assign the class to \"data\"\n",
    "        #id=\"0042000207\"\n",
    "        data = endpoints.boxscoretraditionalv2.BoxScoreTraditionalV2(i)\n",
    "\n",
    "        # Our \"data\" variable now has built in functions such as creating a dataframe for our data\n",
    "        df = data.player_stats.get_data_frame()\n",
    "\n",
    "        trad = pd.concat([trad, df])\n",
    "\n",
    "    ### Limpiar df\n",
    "    #Eliminar COMMENT\n",
    "    trad.drop(\"COMMENT\", axis=1, inplace=True)\n",
    "\n",
    "    #Eliminar START_POSITION       \n",
    "    trad.drop(\"START_POSITION\", axis=1, inplace=True)\n",
    "\n",
    "    # Eliminar las filas con nan, son jugadores que no jugaron\n",
    "    trad.dropna(axis=0, inplace = True) \n",
    "\n",
    "    def minutos(x):\n",
    "        tiempo=[]\n",
    "        for i in range(2):\n",
    "            tiempo.append(int(x.split(\":\")[i]))\n",
    "        return (tiempo[1]/60)+tiempo[0]\n",
    "\n",
    "    trad[\"MIN\"] = trad[\"MIN\"].apply(minutos)\n",
    "\n",
    "    #Agrupar medidas\n",
    "    media = trad.groupby([\"TEAM_ABBREVIATION\",\"PLAYER_NAME\"]).mean()    \n",
    "    std = trad.groupby([\"TEAM_ABBREVIATION\",\"PLAYER_NAME\"]).std()\n",
    "    maxim = trad.groupby([\"TEAM_ABBREVIATION\",\"PLAYER_NAME\"]).max()\n",
    "    minim = trad.groupby([\"TEAM_ABBREVIATION\",\"PLAYER_NAME\"]).min()\n",
    "    suma = trad.groupby([\"TEAM_ABBREVIATION\",\"PLAYER_NAME\"]).sum()\n",
    "    med = trad.groupby([\"TEAM_ABBREVIATION\",\"PLAYER_NAME\"]).median()\n",
    "    q1 = trad.groupby([\"TEAM_ABBREVIATION\",\"PLAYER_NAME\"]).quantile(0.25)\n",
    "    q2 = trad.groupby([\"TEAM_ABBREVIATION\",\"PLAYER_NAME\"]).quantile(0.75)\n",
    "\n",
    "    concatenacion = pd.concat([media, std, maxim, minim, suma, med, q1, q2], axis=1)\n",
    "    concatenacion[\"numero_enfrentamientos\"]= len(trad[\"GAME_ID\"].unique())\n",
    "    concatenacion[\"matchup\"]=city_a+\"vs\"+city_b\n",
    "\n",
    "    df_medidas_trad = pd.concat([df_medidas_trad, concatenacion])\n",
    "    df_medidas_trad=df_medidas_trad.fillna(0)\n",
    "\n",
    "\n",
    "    #Eliminar columas\n",
    "    columnas_eliminar=[]\n",
    "    for j in [\"gan_per\", \"NICK\", \"local_visitante\", \"GAME_ID\", \"TEAM_CITY\",\"FGM\", \"FG3M\", \"FTM\", \"OREB\", \"BLK\"  ]:\n",
    "        for i in df_medidas_trad.columns:\n",
    "            if i.startswith(j):\n",
    "                columnas_eliminar.append(i)\n",
    "    df_medidas_trad.drop(columnas_eliminar, axis=1, inplace=True)  \n",
    "\n",
    "    #Dar matchup\n",
    "    df_medidas_trad['matchup'] = 18\n",
    "\n",
    "    #Reiniciar índice\n",
    "    df_medidas_trad = df_medidas_trad.reset_index()\n",
    "    df_medidas_trad2 = df_medidas_trad.copy()\n",
    "    df_medidas_trad2.drop([\"TEAM_ABBREVIATION\", \"PLAYER_NAME\"], axis=1, inplace=True)\n",
    "\n",
    "    #Aplicar modelo\n",
    "    #Cargar\n",
    "    loaded_model = pickle.load(open(\"finalized_model.sav\", 'rb'))\n",
    "    results = loaded_model.predict(df_medidas_trad2)\n",
    "   \n",
    "\n",
    "    #Agregar resultados al df\n",
    "    df_medidas_trad[\"resultados\"]=results\n",
    "    df_medidas_trad[[\"TEAM_ABBREVIATION\", \"resultados\"]].value_counts()[city_a][\"G\"]\n",
    "\n",
    "    #Decidir ganador\n",
    "\n",
    "    try:\n",
    "        g_c1 = df_medidas_trad[[\"TEAM_ABBREVIATION\", \"resultados\"]].value_counts()[city_a][\"G\"]\n",
    "    except:\n",
    "        g_c1=0\n",
    "\n",
    "    try:\n",
    "        p_c1 = df_medidas_trad[[\"TEAM_ABBREVIATION\", \"resultados\"]].value_counts()[city_a][\"P\"]\n",
    "    except:\n",
    "        p_c1=0\n",
    "\n",
    "    try:\n",
    "        g_c2 = df_medidas_trad[[\"TEAM_ABBREVIATION\", \"resultados\"]].value_counts()[city_b][\"G\"]\n",
    "    except:\n",
    "        g_c2 = 0\n",
    "\n",
    "    try:\n",
    "        p_c2 = df_medidas_trad[[\"TEAM_ABBREVIATION\", \"resultados\"]].value_counts()[city_b][\"P\"]\n",
    "    except:\n",
    "        p_c2 = 0\n",
    "\n",
    "    if (g_c1 > g_c2) and (p_c1 < p_c2):\n",
    "        return(city_a)\n",
    "    elif (g_c1 > g_c2) and (p_c1 == p_c2):\n",
    "        return(city_a)\n",
    "    elif (g_c1 == g_c2) and (p_c1 < p_c2):\n",
    "        return(city_a)\n",
    "    elif (g_c1 == g_c2) and (p_c1 == p_c2):\n",
    "        return(\"Empate\")\n",
    "    else:\n",
    "        return(city_b)"
   ]
  },
  {
   "cell_type": "code",
   "execution_count": 806,
   "id": "b9597729",
   "metadata": {},
   "outputs": [
    {
     "data": {
      "text/plain": [
       "'MIL'"
      ]
     },
     "execution_count": 806,
     "metadata": {},
     "output_type": "execute_result"
    }
   ],
   "source": [
    "apuesta(city_a, city_b)"
   ]
  },
  {
   "cell_type": "code",
   "execution_count": 5,
   "id": "9194a51c",
   "metadata": {},
   "outputs": [
    {
     "data": {
      "text/plain": [
       "'MIL'"
      ]
     },
     "execution_count": 5,
     "metadata": {},
     "output_type": "execute_result"
    }
   ],
   "source": [
    "apuesta(\"MIL\", \"ATL\", \"2020-12-22\")"
   ]
  },
  {
   "cell_type": "markdown",
   "id": "76935aec",
   "metadata": {},
   "source": [
    "## Variables más importantes para el modelo dado un enfrentamiento"
   ]
  },
  {
   "cell_type": "code",
   "execution_count": null,
   "id": "1fe7f686",
   "metadata": {},
   "outputs": [],
   "source": [
    "from sklearn.ensemble import RandomForestClassifier\n",
    "X = x_train\n",
    "#clf = RandomForestClassifier(n_estimators=5000)\n",
    "#clf.fit(X, y)\n",
    "importances = clf.feature_importances_\n",
    "std = np.std([tree.feature_importances_ for tree in clf.estimators_], axis=0)\n",
    "indices = np.argsort(importances)[::-1]\n",
    "\n",
    "print(\"Feature ranking:\")\n",
    "\n",
    "for f in range(X.shape[1]):\n",
    "    print(\"%d. feature %d (%f)\" % (f + 1, indices[f], importances[indices[f]]))\n",
    "\n",
    "plt.figure()\n",
    "plt.title(\"Feature importances\")\n",
    "plt.bar(range(X.shape[1]), importances[indices],color=\"r\", yerr=std[indices], align=\"center\")\n",
    "plt.xticks(range(X.shape[1]), indices)\n",
    "plt.xlim([-1, X.shape[1]])\n",
    "plt.show()"
   ]
  },
  {
   "cell_type": "markdown",
   "id": "a109324f",
   "metadata": {},
   "source": [
    "1. 'PLUS_MINUS_q75’ (10,9069%) \n",
    "2. 'numero_enfrentamientos’ (7,6754%)\n",
    "3. 'FGA_std’ (6,4569%) \n",
    "4. ‘PLAYER_ID’ (6,1610%) \n",
    "5. 'AST_q25’ (5,6829%) \n",
    "6. \"DREB_max“ (5,5977%)\n"
   ]
  }
 ],
 "metadata": {
  "kernelspec": {
   "display_name": "Python 3",
   "language": "python",
   "name": "python3"
  },
  "language_info": {
   "codemirror_mode": {
    "name": "ipython",
    "version": 3
   },
   "file_extension": ".py",
   "mimetype": "text/x-python",
   "name": "python",
   "nbconvert_exporter": "python",
   "pygments_lexer": "ipython3",
   "version": "3.8.5"
  }
 },
 "nbformat": 4,
 "nbformat_minor": 5
}
