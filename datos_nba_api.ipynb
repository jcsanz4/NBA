{
 "cells": [
  {
   "cell_type": "code",
   "execution_count": 134,
   "id": "51282789",
   "metadata": {},
   "outputs": [],
   "source": [
    "import requests\n",
    "from time import sleep, strftime\n",
    "import random\n",
    "from random import randint\n",
    "from bs4 import BeautifulSoup\n",
    "from selenium import webdriver\n",
    "import shutil\n",
    "import pickle\n",
    "from selenium import webdriver\n",
    "from selenium.webdriver.common.by import By\n",
    "from selenium.webdriver.common.action_chains import ActionChains\n",
    "from selenium.webdriver.support import expected_conditions\n",
    "from selenium.webdriver.support.wait import WebDriverWait\n",
    "from selenium.webdriver.common.keys import Keys\n",
    "from selenium.webdriver.common.desired_capabilities import DesiredCapabilities\n",
    "import pandas as pd\n",
    "import datetime\n",
    "import funciones_nba24\n",
    "from nba_api.stats.static import teams\n",
    "from nba_api.stats.endpoints import leaguegamefinder\n",
    "import numpy as np\n",
    "import seaborn as sns\n",
    "import matplotlib.pyplot as plt\n",
    "import itertools\n",
    "from nba_api.stats import endpoints"
   ]
  },
  {
   "cell_type": "markdown",
   "id": "311d3c49",
   "metadata": {},
   "source": [
    "### En games_temporada se guarda el df que contiene las fechas y los id de juego de la temporada, entre city_a y city_b"
   ]
  },
  {
   "cell_type": "markdown",
   "id": "ce9ce5e4",
   "metadata": {},
   "source": [
    "# Estadísticas tradicionales API"
   ]
  },
  {
   "cell_type": "markdown",
   "id": "51700bb4",
   "metadata": {},
   "source": [
    "### Combinaciones Games"
   ]
  },
  {
   "cell_type": "code",
   "execution_count": 213,
   "id": "148c4519",
   "metadata": {},
   "outputs": [
    {
     "data": {
      "text/plain": [
       "435"
      ]
     },
     "execution_count": 213,
     "metadata": {},
     "output_type": "execute_result"
    }
   ],
   "source": [
    "a=[\"ATL\", \"BOS\", \"CLE\", \"NOP\", \"CHI\", \"DAL\", \"DEN\", \"GSW\", \"HOU\", \"LAC\", \"LAL\", \"MIA\", \"MIL\", \"MIN\", \"BKN\", \"NYK\", \"ORL\", \"IND\",\n",
    "\"PHI\", \"PHX\", \"POR\", \"SAC\", \"SAS\", \"OKC\", \"TOR\", \"UTA\", \"MEM\", \"WAS\", \"DET\", \"CHA\"]\n",
    "combinaciones_games=[]\n",
    "for i in itertools.combinations(a,2):\n",
    "    combinaciones_games.append(i)\n",
    "len(combinaciones_games)"
   ]
  },
  {
   "cell_type": "markdown",
   "id": "0a9b1d34",
   "metadata": {},
   "source": [
    "## Obtener estadísticas tradicionales y avanzadas de la temporada"
   ]
  },
  {
   "cell_type": "code",
   "execution_count": 235,
   "id": "885f5bb8",
   "metadata": {},
   "outputs": [
    {
     "name": "stdout",
     "output_type": "stream",
     "text": [
      "Wall time: 26min 49s\n"
     ]
    }
   ],
   "source": [
    "%%time\n",
    "#DF vacío\n",
    "trad = pd.DataFrame()\n",
    "avanzadas = pd.DataFrame()\n",
    "for i in range(len(combinaciones_games)):\n",
    "    city_a = (combinaciones_games[i][0])\n",
    "    city_b = (combinaciones_games[i][1])   \n",
    "    #city_a=\"ATL\"\n",
    "    #city_b=\"BOS\"\n",
    "    inicio_temporada=\"2020-12-22\"\n",
    "\n",
    "    nba_teams = teams.get_teams()\n",
    "    # Select the dictionary for the Celtics, which contains their team ID\n",
    "    celtics = [team for team in nba_teams if team['abbreviation'] == city_a][0]\n",
    "    celtics_id = celtics['id']\n",
    "\n",
    "    # Query for games where the Celtics were playing\n",
    "    gamefinder = leaguegamefinder.LeagueGameFinder(team_id_nullable=celtics_id)\n",
    "    # The first DataFrame of those returned is what we want.\n",
    "    games = gamefinder.get_data_frames()[0]\n",
    "\n",
    "    games[\"GAME_DATE\"]= games [\"GAME_DATE\"].astype(\"datetime64\")#Convertimos en formato fecha el game_date\n",
    "    games_temporada = games[games[\"GAME_DATE\"]>=inicio_temporada]#Escoger los partidos dentro de la temporada\n",
    "    #Filtrar por la ciudad rival\n",
    "    games_temporada = games_temporada[games_temporada[\"MATCHUP\"].isin([city_a+\" @ \"+city_b, city_a+\" vs. \"+city_b])].sort_values(\"GAME_DATE\",ascending=False)\n",
    "\n",
    "    #reiniciar index\n",
    "    games_temporada = games_temporada.reset_index()\n",
    "    games_temporada.drop(\"index\", axis=1, inplace=True)\n",
    "\n",
    "    games_temporada[\"GAME_DATE\"] = games_temporada[\"GAME_DATE\"].map(lambda x: x.strftime(\"%Y-%m-%d\"))#Cambiamos fecha a str\n",
    "    fechas_partidos = games_temporada[\"GAME_DATE\"].values\n",
    "\n",
    "    #Guardo en id_games los id de los juegos de la temporada entre city_a y city_b\n",
    "    id_games = games_temporada[\"GAME_ID\"].values\n",
    "\n",
    "  \n",
    "\n",
    "    #Concatenar los df de estadísticas tradicionales de cada juego\n",
    "    for i in id_games:    \n",
    "        # Here we access the leagueleaders module through endpoints & assign the class to \"data\"\n",
    "        #id=\"0042000207\"\n",
    "        data = endpoints.boxscoretraditionalv2.BoxScoreTraditionalV2(i)\n",
    "\n",
    "        # Our \"data\" variable now has built in functions such as creating a dataframe for our data\n",
    "        df = data.player_stats.get_data_frame()\n",
    "\n",
    "        trad = pd.concat([trad, df])\n",
    "        \n",
    "   \n",
    "    #Concatenar los df de estadísticas Avanzadas de cada juego\n",
    "    for i in id_games:    \n",
    "        # Here we access the leagueleaders module through endpoints & assign the class to \"data\"\n",
    "   \n",
    "        data = endpoints.boxscoreadvancedv2.BoxScoreAdvancedV2(i)\n",
    "\n",
    "        # Our \"data\" variable now has built in functions such as creating a dataframe for our data\n",
    "        df = data.player_stats.get_data_frame()\n",
    "        \n",
    "        avanzadas = pd.concat([avanzadas, df])"
   ]
  },
  {
   "cell_type": "markdown",
   "id": "1b42b549",
   "metadata": {},
   "source": [
    "## Guardar dfs en el ordenador"
   ]
  },
  {
   "cell_type": "code",
   "execution_count": 262,
   "id": "27deb8f1",
   "metadata": {},
   "outputs": [],
   "source": [
    "trad.to_csv('estadisticas_tradicionales.csv', header=True, index=True)\n",
    "avanzadas.to_csv('estadisticas_avanzadas.csv', header=True, index=True)"
   ]
  },
  {
   "cell_type": "markdown",
   "id": "270ac46b",
   "metadata": {},
   "source": [
    "# Procesamiento de dfs trad\n",
    "- Eliminar columnas que no sean necesarias.\n",
    "- Eliminar NANS\n",
    "- Crear los dfs de medidas de agrupación"
   ]
  },
  {
   "cell_type": "markdown",
   "id": "9ad0df77",
   "metadata": {},
   "source": [
    "## Eliminar columnas"
   ]
  },
  {
   "cell_type": "code",
   "execution_count": 264,
   "id": "6307af13",
   "metadata": {},
   "outputs": [],
   "source": [
    "df_tradicional = pd.read_csv(\"estadisticas_tradicionales.csv\")"
   ]
  },
  {
   "cell_type": "code",
   "execution_count": 268,
   "id": "72899564",
   "metadata": {},
   "outputs": [],
   "source": [
    "#Eliminar COMMENT\n",
    "df_tradicional.drop(\"COMMENT\", axis=1, inplace=True)"
   ]
  },
  {
   "cell_type": "code",
   "execution_count": 275,
   "id": "f3cc67a8",
   "metadata": {},
   "outputs": [],
   "source": [
    "#Eliminar START_POSITION       \n",
    "df_tradicional.drop(\"START_POSITION\", axis=1, inplace=True)"
   ]
  },
  {
   "cell_type": "code",
   "execution_count": 277,
   "id": "21587897",
   "metadata": {},
   "outputs": [],
   "source": [
    "# Eliminar las filas con nan, son jugadores que no jugaron\n",
    "df_tradicional.dropna(axis=0, inplace = True) "
   ]
  },
  {
   "cell_type": "code",
   "execution_count": 285,
   "id": "72d6a465",
   "metadata": {},
   "outputs": [],
   "source": [
    "#Eliminar UNamed       \n",
    "df_tradicional.drop(\"Unnamed: 0\", axis=1, inplace=True)"
   ]
  },
  {
   "cell_type": "code",
   "execution_count": 280,
   "id": "79727fb7",
   "metadata": {},
   "outputs": [],
   "source": [
    "def minutos(x):\n",
    "    tiempo=[]\n",
    "    for i in range(2):\n",
    "        tiempo.append(int(x.split(\":\")[i]))\n",
    "    return (tiempo[1]/60)+tiempo[0]\n",
    "\n",
    "df_tradicional[\"MIN\"] = df_tradicional[\"MIN\"].apply(minutos)"
   ]
  },
  {
   "cell_type": "markdown",
   "id": "f9182bca",
   "metadata": {},
   "source": [
    "### Asignar local visitante"
   ]
  },
  {
   "cell_type": "code",
   "execution_count": 305,
   "id": "fc58c5e2",
   "metadata": {},
   "outputs": [],
   "source": [
    "local_visit=[]\n",
    "for j in df_tradicional[\"GAME_ID\"].unique():\n",
    "    for i in df_tradicional[df_tradicional[\"GAME_ID\"]==int(j)][\"TEAM_CITY\"]:\n",
    "        if i == df_tradicional[df_tradicional[\"GAME_ID\"]==int(j)][\"TEAM_CITY\"].values[0]:\n",
    "            local_visit.append(\"V\")\n",
    "        else:\n",
    "            local_visit.append(\"L\")"
   ]
  },
  {
   "cell_type": "code",
   "execution_count": 308,
   "id": "bc350113",
   "metadata": {},
   "outputs": [],
   "source": [
    "df_tradicional[\"local_visitante\"]=local_visit"
   ]
  },
  {
   "cell_type": "markdown",
   "id": "0525e7ff",
   "metadata": {},
   "source": [
    "### Agregar columna ganar perder"
   ]
  },
  {
   "cell_type": "code",
   "execution_count": 319,
   "id": "61c70a47",
   "metadata": {},
   "outputs": [],
   "source": [
    "gan_per=[]\n",
    "for j in df_tradicional[\"GAME_ID\"].unique():\n",
    "    for i in df_tradicional[df_tradicional[\"GAME_ID\"]==int(j)][\"TEAM_ABBREVIATION\"]:\n",
    "        if i == df_tradicional[df_tradicional[\"GAME_ID\"]==int(j)].groupby(\"TEAM_ABBREVIATION\").sum()[\"PTS\"].idxmax():\n",
    "            gan_per.append(\"G\")\n",
    "        else:\n",
    "            gan_per.append(\"P\")"
   ]
  },
  {
   "cell_type": "code",
   "execution_count": 321,
   "id": "fa087fe2",
   "metadata": {},
   "outputs": [],
   "source": [
    "df_tradicional[\"gan_per\"]=gan_per"
   ]
  },
  {
   "cell_type": "markdown",
   "id": "1704feed",
   "metadata": {},
   "source": [
    "## Hacer df de medidas de agrupación, tradicionales"
   ]
  },
  {
   "cell_type": "code",
   "execution_count": 377,
   "id": "8f2c511f",
   "metadata": {},
   "outputs": [],
   "source": [
    "df_medidas_trad= pd.DataFrame()\n",
    "\n",
    "#c1=\"ATL\"\n",
    "#c2=\"BOS\"\n",
    "for i in range(len(combinaciones_games)):\n",
    "    c1 = (combinaciones_games[i][0])\n",
    "    c2 = (combinaciones_games[i][1])   \n",
    "\n",
    "    df_enfrentamientos_equipo=pd.DataFrame()\n",
    "    for j in df_tradicional[\"GAME_ID\"].unique():\n",
    "        df_partido = df_tradicional[df_tradicional[\"GAME_ID\"]==int(j)]\n",
    "        if (df_partido[\"TEAM_ABBREVIATION\"].unique()[0]==c1 or df_partido[\"TEAM_ABBREVIATION\"].unique()[0]==c2 ) and (df_partido[\"TEAM_ABBREVIATION\"].unique()[1]==c2 or df_partido[\"TEAM_ABBREVIATION\"].unique()[1]==c1):\n",
    "            df_enfrentamientos_equipo = pd.concat([df_enfrentamientos_equipo, df_partido])\n",
    "\n",
    "    media = df_enfrentamientos_equipo.groupby([\"TEAM_ABBREVIATION\",\"PLAYER_NAME\"]).mean()    \n",
    "    std = df_enfrentamientos_equipo.groupby([\"TEAM_ABBREVIATION\",\"PLAYER_NAME\"]).std()\n",
    "    maxim = df_enfrentamientos_equipo.groupby([\"TEAM_ABBREVIATION\",\"PLAYER_NAME\"]).max()\n",
    "    minim = df_enfrentamientos_equipo.groupby([\"TEAM_ABBREVIATION\",\"PLAYER_NAME\"]).min()\n",
    "    suma = df_enfrentamientos_equipo.groupby([\"TEAM_ABBREVIATION\",\"PLAYER_NAME\"]).sum()\n",
    "    med = df_enfrentamientos_equipo.groupby([\"TEAM_ABBREVIATION\",\"PLAYER_NAME\"]).median()\n",
    "    q1 = df_enfrentamientos_equipo.groupby([\"TEAM_ABBREVIATION\",\"PLAYER_NAME\"]).quantile(0.25)\n",
    "    q2 = df_enfrentamientos_equipo.groupby([\"TEAM_ABBREVIATION\",\"PLAYER_NAME\"]).quantile(0.75)\n",
    "    \n",
    "    concatenacion = pd.concat([media, std, maxim, minim, suma, med, q1, q2], axis=1)\n",
    "    \n",
    "    df_medidas_trad = pd.concat([df_medidas_trad, concatenacion])"
   ]
  },
  {
   "cell_type": "markdown",
   "id": "466f931b",
   "metadata": {},
   "source": [
    "### Cambiar el nombre de las columnas para identificar las medidas de agrupación"
   ]
  },
  {
   "cell_type": "code",
   "execution_count": 394,
   "id": "97ed8314",
   "metadata": {},
   "outputs": [],
   "source": [
    "df_medidas_trad.drop([\"GAME_ID\", \"TEAM_ID\", \"PLAYER_ID\"], axis=1, inplace=True)"
   ]
  },
  {
   "cell_type": "code",
   "execution_count": 420,
   "id": "19e4afe9",
   "metadata": {},
   "outputs": [],
   "source": [
    "df_medidas_trad.drop([\"NICKNAME\", \"TEAM_CITY\"], axis=1, inplace=True)"
   ]
  },
  {
   "cell_type": "code",
   "execution_count": 424,
   "id": "4c76f777",
   "metadata": {},
   "outputs": [],
   "source": [
    "df_medidas_trad.drop([\"local_visitante\", \"gan_per\"], axis=1, inplace=True)"
   ]
  },
  {
   "cell_type": "code",
   "execution_count": 402,
   "id": "869bca3e",
   "metadata": {},
   "outputs": [],
   "source": [
    "term=[\"_mean\", \"_std\", \"_max\", \"_min\", \"_sum\", \"_median\", \"_q25\", \"_q75\"]\n",
    "columnas_nuevas=[]\n",
    "for j in term:\n",
    "    b=0\n",
    "    c=20\n",
    "    for i in df_medidas_trad.columns[b:c]:\n",
    "        columnas_nuevas.append(i+j)\n",
    "    b+=20\n",
    "    c+=20"
   ]
  },
  {
   "cell_type": "code",
   "execution_count": 425,
   "id": "f4baa17e",
   "metadata": {},
   "outputs": [],
   "source": [
    "df_medidas_trad.columns = columnas_nuevas"
   ]
  },
  {
   "cell_type": "markdown",
   "id": "dfa4a4f8",
   "metadata": {},
   "source": [
    "## Guardar df_medidas_trad"
   ]
  },
  {
   "cell_type": "code",
   "execution_count": 482,
   "id": "d5958ae3",
   "metadata": {},
   "outputs": [],
   "source": [
    "df_medidas_trad.to_csv('estadisticas_tradicionales_agrupadas.csv', header=True, index=True)"
   ]
  },
  {
   "cell_type": "markdown",
   "id": "fabd5b50",
   "metadata": {},
   "source": [
    "## Procesamiento df avanzadas"
   ]
  },
  {
   "cell_type": "code",
   "execution_count": 429,
   "id": "50dcf026",
   "metadata": {},
   "outputs": [],
   "source": [
    "df_avanzadas = pd.read_csv(\"estadisticas_avanzadas.csv\")"
   ]
  },
  {
   "cell_type": "code",
   "execution_count": 430,
   "id": "4911b999",
   "metadata": {},
   "outputs": [],
   "source": [
    "# Eliminar columnas\n",
    "df_avanzadas.drop([\"Unnamed: 0\",\"COMMENT\",\"START_POSITION\" ], axis=1, inplace=True)"
   ]
  },
  {
   "cell_type": "code",
   "execution_count": 431,
   "id": "b0981a47",
   "metadata": {},
   "outputs": [],
   "source": [
    "# Eliminar las filas con nan, son jugadores que no jugaron\n",
    "df_avanzadas.dropna(axis=0, inplace = True) \n",
    "\n",
    "def minutos(x):\n",
    "    tiempo=[]\n",
    "    for i in range(2):\n",
    "        tiempo.append(int(x.split(\":\")[i]))\n",
    "    return (tiempo[1]/60)+tiempo[0]\n",
    "\n",
    "df_avanzadas[\"MIN\"] = df_avanzadas[\"MIN\"].apply(minutos)"
   ]
  },
  {
   "cell_type": "markdown",
   "id": "36b2df10",
   "metadata": {},
   "source": [
    "## Asignar local visitante\n",
    "\n",
    "#### Es la misma lista de tradicionales"
   ]
  },
  {
   "cell_type": "code",
   "execution_count": 436,
   "id": "b74104c5",
   "metadata": {},
   "outputs": [],
   "source": [
    "df_avanzadas[\"local_visitante\"]=local_visit"
   ]
  },
  {
   "cell_type": "markdown",
   "id": "ef5ef0e4",
   "metadata": {},
   "source": [
    "## Asignar ganar perder\n",
    "#### Es la misma lista de tradicionales"
   ]
  },
  {
   "cell_type": "code",
   "execution_count": 437,
   "id": "af9b109f",
   "metadata": {},
   "outputs": [],
   "source": [
    "df_avanzadas[\"gan_per\"]=gan_per"
   ]
  },
  {
   "cell_type": "markdown",
   "id": "4131ec4e",
   "metadata": {},
   "source": [
    "## Hacer df de medidas de agrupación, avanzadas"
   ]
  },
  {
   "cell_type": "code",
   "execution_count": 441,
   "id": "af87079e",
   "metadata": {},
   "outputs": [],
   "source": [
    "df_medidas_avan= pd.DataFrame()\n",
    "\n",
    "#c1=\"ATL\"\n",
    "#c2=\"BOS\"\n",
    "for i in range(len(combinaciones_games)):\n",
    "    c1 = (combinaciones_games[i][0])\n",
    "    c2 = (combinaciones_games[i][1])   \n",
    "\n",
    "    df_enfrentamientos_equipo=pd.DataFrame()\n",
    "    for j in df_avanzadas[\"GAME_ID\"].unique():\n",
    "        df_partido = df_avanzadas[df_avanzadas[\"GAME_ID\"]==int(j)]\n",
    "        if (df_partido[\"TEAM_ABBREVIATION\"].unique()[0]==c1 or df_partido[\"TEAM_ABBREVIATION\"].unique()[0]==c2 ) and (df_partido[\"TEAM_ABBREVIATION\"].unique()[1]==c2 or df_partido[\"TEAM_ABBREVIATION\"].unique()[1]==c1):\n",
    "            df_enfrentamientos_equipo = pd.concat([df_enfrentamientos_equipo, df_partido])\n",
    "\n",
    "    media = df_enfrentamientos_equipo.groupby([\"TEAM_ABBREVIATION\",\"PLAYER_NAME\"]).mean()    \n",
    "    std = df_enfrentamientos_equipo.groupby([\"TEAM_ABBREVIATION\",\"PLAYER_NAME\"]).std()\n",
    "    maxim = df_enfrentamientos_equipo.groupby([\"TEAM_ABBREVIATION\",\"PLAYER_NAME\"]).max()\n",
    "    minim = df_enfrentamientos_equipo.groupby([\"TEAM_ABBREVIATION\",\"PLAYER_NAME\"]).min()\n",
    "    suma = df_enfrentamientos_equipo.groupby([\"TEAM_ABBREVIATION\",\"PLAYER_NAME\"]).sum()\n",
    "    med = df_enfrentamientos_equipo.groupby([\"TEAM_ABBREVIATION\",\"PLAYER_NAME\"]).median()\n",
    "    q1 = df_enfrentamientos_equipo.groupby([\"TEAM_ABBREVIATION\",\"PLAYER_NAME\"]).quantile(0.25)\n",
    "    q2 = df_enfrentamientos_equipo.groupby([\"TEAM_ABBREVIATION\",\"PLAYER_NAME\"]).quantile(0.75)\n",
    "    \n",
    "    concatenacion = pd.concat([media, std, maxim, minim, suma, med, q1, q2], axis=1)\n",
    "    \n",
    "    df_medidas_avan = pd.concat([df_medidas_avan, concatenacion])"
   ]
  },
  {
   "cell_type": "markdown",
   "id": "8ab0ee12",
   "metadata": {},
   "source": [
    "### Cambiar el nombre de las columnas para identificar las medidas de agrupación"
   ]
  },
  {
   "cell_type": "code",
   "execution_count": 444,
   "id": "582da198",
   "metadata": {},
   "outputs": [],
   "source": [
    "df_medidas_avan.drop([\"GAME_ID\", \"TEAM_ID\", \"PLAYER_ID\", \"NICKNAME\", \"TEAM_CITY\", \"local_visitante\", \"gan_per\"], axis=1, inplace=True)"
   ]
  },
  {
   "cell_type": "code",
   "execution_count": 455,
   "id": "9359e5c6",
   "metadata": {},
   "outputs": [],
   "source": [
    "term=[\"_mean\", \"_std\", \"_max\", \"_min\", \"_sum\", \"_median\", \"_q25\", \"_q75\"]\n",
    "columnas_nuevas=[]\n",
    "for j in term:\n",
    "    b=0\n",
    "    c=23\n",
    "    for i in df_medidas_avan.columns[b:c]:\n",
    "        columnas_nuevas.append(i+j)\n",
    "    b+=23\n",
    "    c+=23"
   ]
  },
  {
   "cell_type": "code",
   "execution_count": 456,
   "id": "0aec249a",
   "metadata": {},
   "outputs": [],
   "source": [
    "df_medidas_avan.columns = columnas_nuevas"
   ]
  },
  {
   "cell_type": "markdown",
   "id": "9f43acb0",
   "metadata": {},
   "source": [
    "## Guardar df_medidas_avan"
   ]
  },
  {
   "cell_type": "code",
   "execution_count": 487,
   "id": "f6469c2c",
   "metadata": {},
   "outputs": [],
   "source": [
    "df_medidas_avan.to_csv('estadisticas_avanzadas_agrupadas.csv', header=True, index=True)"
   ]
  },
  {
   "cell_type": "markdown",
   "id": "ee2c6bf7",
   "metadata": {},
   "source": [
    "## Guardar dfs limpios avanzadas y tradicionales"
   ]
  },
  {
   "cell_type": "code",
   "execution_count": null,
   "id": "2b1708e0",
   "metadata": {},
   "outputs": [],
   "source": [
    "df_avanzadas.to_csv('estadisticas_avanzadas.csv', header=True, index=True)\n",
    "df_tradicional.to_csv('estadisticas_tradicionales.csv', header=True, index=True)"
   ]
  }
 ],
 "metadata": {
  "kernelspec": {
   "display_name": "Python 3",
   "language": "python",
   "name": "python3"
  },
  "language_info": {
   "codemirror_mode": {
    "name": "ipython",
    "version": 3
   },
   "file_extension": ".py",
   "mimetype": "text/x-python",
   "name": "python",
   "nbconvert_exporter": "python",
   "pygments_lexer": "ipython3",
   "version": "3.8.5"
  }
 },
 "nbformat": 4,
 "nbformat_minor": 5
}
