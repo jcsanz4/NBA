{
 "cells": [
  {
   "cell_type": "code",
   "execution_count": 1,
   "metadata": {},
   "outputs": [],
   "source": [
    "import funcion_apuestas2"
   ]
  },
  {
   "cell_type": "code",
   "execution_count": 2,
   "metadata": {
    "scrolled": true
   },
   "outputs": [
    {
     "name": "stderr",
     "output_type": "stream",
     "text": [
      "C:\\Users\\jcsg_\\anaconda3\\lib\\site-packages\\sklearn\\base.py:329: UserWarning: Trying to unpickle estimator DecisionTreeClassifier from version 0.24.2 when using version 0.23.2. This might lead to breaking code or invalid results. Use at your own risk.\n",
      "  warnings.warn(\n",
      "C:\\Users\\jcsg_\\anaconda3\\lib\\site-packages\\sklearn\\base.py:329: UserWarning: Trying to unpickle estimator RandomForestClassifier from version 0.24.2 when using version 0.23.2. This might lead to breaking code or invalid results. Use at your own risk.\n",
      "  warnings.warn(\n"
     ]
    },
    {
     "data": {
      "text/plain": [
       "'MIL'"
      ]
     },
     "execution_count": 2,
     "metadata": {},
     "output_type": "execute_result"
    }
   ],
   "source": [
    "funcion_apuestas2.apuesta(\"MIL\",\"ATL\",\"2020-12-22\")"
   ]
  },
  {
   "cell_type": "code",
   "execution_count": null,
   "metadata": {},
   "outputs": [],
   "source": [
    "plt.figure(figsize=(100, 200))\n",
    "tree.plot_tree(clf.fit(iris.data, iris.target)) \n",
    "plt.show()"
   ]
  },
  {
   "cell_type": "code",
   "execution_count": null,
   "metadata": {},
   "outputs": [],
   "source": [
    "##Gráfica de los dos equipos por separado"
   ]
  },
  {
   "cell_type": "code",
   "execution_count": 2,
   "metadata": {},
   "outputs": [],
   "source": [
    "import chart_studio.plotly as py\n",
    "import plotly.graph_objs as go\n",
    "import numpy as np\n"
   ]
  },
  {
   "cell_type": "code",
   "execution_count": 3,
   "metadata": {},
   "outputs": [],
   "source": [
    "women_bins = np.array([-600, -623, -653, -650, -670, -578, -541, -411, -322, -230])\n",
    "men_bins = np.array([600, 623, 653, 650, 670, 578, 541, 360, 312, 170])\n",
    "y = list(range(0, 100, 10))\n"
   ]
  },
  {
   "cell_type": "code",
   "execution_count": 4,
   "metadata": {},
   "outputs": [],
   "source": [
    "layout = go.Layout(yaxis=go.layout.YAxis(title='Age'),\n",
    "xaxis=go.layout.XAxis(range=[-1200, 1200],\n",
    "         tickvals=[-1000, -700, -300, 0, 300, 700, 1000],\n",
    "         ticktext=[1000, 700, 300, 0, 300, 700, 1000],\n",
    "         title='Number'),barmode='overlay',bargap=0.1)\n"
   ]
  },
  {
   "cell_type": "code",
   "execution_count": 9,
   "metadata": {},
   "outputs": [],
   "source": [
    "data = [go.Bar(y=y,x=men_bins,orientation='h',name='Men',hoverinfo='x',marker=dict(color='powderblue')),\n",
    "        go.Bar(y=y,x=women_bins,orientation='h',name='Women',text=-1 * women_bins.astype('int'))]\n"
   ]
  },
  {
   "cell_type": "code",
   "execution_count": 10,
   "metadata": {},
   "outputs": [
    {
     "data": {
      "text/plain": [
       "[Bar({\n",
       "     'hoverinfo': 'x',\n",
       "     'marker': {'color': 'powderblue'},\n",
       "     'name': 'Men',\n",
       "     'orientation': 'h',\n",
       "     'x': array([600, 623, 653, 650, 670, 578, 541, 360, 312, 170]),\n",
       "     'y': [0, 10, 20, 30, 40, 50, 60, 70, 80, 90]\n",
       " }),\n",
       " Bar({\n",
       "     'name': 'Women',\n",
       "     'orientation': 'h',\n",
       "     'text': array([600., 623., 653., 650., 670., 578., 541., 411., 322., 230.]),\n",
       "     'x': array([-600, -623, -653, -650, -670, -578, -541, -411, -322, -230]),\n",
       "     'y': [0, 10, 20, 30, 40, 50, 60, 70, 80, 90]\n",
       " })]"
      ]
     },
     "execution_count": 10,
     "metadata": {},
     "output_type": "execute_result"
    }
   ],
   "source": [
    "data"
   ]
  },
  {
   "cell_type": "code",
   "execution_count": null,
   "metadata": {},
   "outputs": [],
   "source": [
    "import tkinter as tk\n",
    "from tkinter import ttk \n",
    "import pickle\n",
    "import pandas as pd\n",
    "import numpy as np\n",
    "import random\n",
    "import math\n",
    "import pickle\n",
    "\n",
    "\n",
    "col = ['LIMIT_BAL', 'SEX', 'EDUCATION', 'MARRIAGE', 'AGE', 'PAY_0', 'PAY_2',\n",
    "       'PAY_3', 'PAY_4', 'PAY_5', 'PAY_6', 'BILL_AMT1', 'PAY_AMT1', 'PAY_AMT2',\n",
    "       'PAY_AMT3', 'PAY_AMT4', 'PAY_AMT5', 'PAY_AMT6', 'class']\n",
    "\n",
    "var0,var1,var2,var3,var4,var5,var6,var7,var8,var9,var10,var11,var12,var13,var14,var15,var16,var17 = [],[],[],[],[],[],[],[],[],[],[],[],[],[],[],[],[],[]\n",
    "vars = [var0,var1,var2,var3,var4,var5,var6,var7,var8,var9,var10,var11,var12,var13,var14,var15,var16,var17]\n",
    "\n",
    "\n",
    "def boton_calcular():\n",
    "    list_var = [\n",
    "        vars[0].get(),\n",
    "        vars[1].get(),\n",
    "        vars[2].get(),\n",
    "        vars[3].get(),\n",
    "        vars[4].get(),\n",
    "        vars[5].get(),\n",
    "        vars[6].get(),\n",
    "        vars[7].get(),\n",
    "        vars[8].get(),\n",
    "        vars[9].get(),\n",
    "        vars[10].get(),\n",
    "        vars[11].get(),\n",
    "        vars[12].get(),\n",
    "        vars[13].get(),\n",
    "        vars[14].get(),\n",
    "        vars[15].get(),\n",
    "        vars[16].get(),\n",
    "        vars[17].get()]\n",
    "\n",
    "\n",
    "\n",
    "# load the model from disk\n",
    "loaded_model = pickle.load(open('ClasificadorGanador_Javi_Nuria.sav', 'rb'))\n",
    "list_var = [float(i) for i in list_var]\n",
    "\n",
    "x = loaded_model.predict(np.array(np.array([list_var])))\t\n",
    "print(list_var)\n",
    "print(\"****\")\n",
    "print(np.array([list_var]))\n",
    "resultado.set(\"Clase \"+str(x[0]))\n",
    "#return \n",
    "#return \"Hola mundo\"\n",
    "\n",
    "root = tk.Tk()\n",
    "root.geometry('{}x{}'.format(620, 620))\n",
    "root.config()\n",
    "resultado = tk.StringVar(root)\n",
    "\n",
    "frame0 = tk.LabelFrame(root, bd = 0, relief = tk.RIDGE)\n",
    "frame0.pack()\n",
    "\n",
    "tk.Label(frame0, font=('Calibri', 12,'bold'), text = 'Clasificador ').grid(row = 0, column = 0,sticky=tk.W)\n",
    "\n",
    "for i in range(len(col)-1):\n",
    "    tk.Label(frame0, font=('Calibri', 12), text = col[i], justify=tk.RIGHT).grid(row = 1+i, column = 0)\n",
    "    vars[i] = tk.Entry(frame0, font = ('Calibri', 12), width=17)\n",
    "    vars[i].focus()\n",
    "    vars[i].grid(row = 1+i, column = 1)\n",
    "\n",
    "\n",
    "## BOTON de Calcular \n",
    "\n",
    "frame5 = tk.LabelFrame(root, bd = 0, relief = tk.RIDGE)\n",
    "frame5.pack()\n",
    "\n",
    "button = tk.Button(frame5,padx = 20, pady=3, fg = \"black\", font = ('arial', 14, 'bold'), width = 4, text = \"Calcular\", command = boton_calcular)\n",
    "button.grid(row = 1, column = 0)\n",
    "ready = tk.Entry(frame5, font = ('arial', 14), width=17, textvariable= resultado)\n",
    "ready.grid(row = 3, column = 0)   \n",
    "\n",
    "\n",
    "\n",
    "\n",
    "root.mainloop()\n"
   ]
  }
 ],
 "metadata": {
  "kernelspec": {
   "display_name": "Python 3",
   "language": "python",
   "name": "python3"
  },
  "language_info": {
   "codemirror_mode": {
    "name": "ipython",
    "version": 3
   },
   "file_extension": ".py",
   "mimetype": "text/x-python",
   "name": "python",
   "nbconvert_exporter": "python",
   "pygments_lexer": "ipython3",
   "version": "3.8.5"
  }
 },
 "nbformat": 4,
 "nbformat_minor": 4
}
